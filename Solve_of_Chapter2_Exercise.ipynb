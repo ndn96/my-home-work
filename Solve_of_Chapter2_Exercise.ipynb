{
  "nbformat": 4,
  "nbformat_minor": 0,
  "metadata": {
    "colab": {
      "name": "Solve-of-Chapter2-Exercise.ipynb",
      "provenance": [],
      "collapsed_sections": [],
      "include_colab_link": true
    },
    "kernelspec": {
      "name": "python3",
      "display_name": "Python 3"
    }
  },
  "cells": [
    {
      "cell_type": "markdown",
      "metadata": {
        "id": "view-in-github",
        "colab_type": "text"
      },
      "source": [
        "<a href=\"https://colab.research.google.com/github/ndn96/my-home-work/blob/main/Solve_of_Chapter2_Exercise.ipynb\" target=\"_parent\"><img src=\"https://colab.research.google.com/assets/colab-badge.svg\" alt=\"Open In Colab\"/></a>"
      ]
    },
    {
      "cell_type": "markdown",
      "metadata": {
        "id": "sMJ5KoiBMARd"
      },
      "source": [
        "**BÀI TẬP LẬP TRÌNH CHƯƠNG 2**\n",
        "\n",
        "Bài 1: Lập trình nhập vào từ bàn phím 2 số nguyên và tính:\n",
        "\n",
        "\n",
        "1.   Tổng của 2 số\n",
        "2.   Tích của 2 số\n",
        "3.   Hiệu của 2 số\n",
        "4.   Phép chia lấy phần dư của 2 số\n",
        "5.   Phép chia lấy phần nguyên của 2 số\n",
        "\n",
        "Kết quả xuất ra màn hình\n",
        "\n"
      ]
    },
    {
      "cell_type": "code",
      "metadata": {
        "id": "Os5z0wPpL1Nk",
        "colab": {
          "base_uri": "https://localhost:8080/"
        },
        "outputId": "9b58ed6e-7a0f-488b-cd87-92daea14f8fd"
      },
      "source": [
        "# Bài 1\n",
        "# Nhập vào từ bàn phím 2 số nguyên a1,b1:\n",
        "# Test Case: a1 = 8, b1 = -3\n",
        "a1 = int(input(\"Nhập vào số nguyên a1: \"))\n",
        "b1 = int(input(\"Nhập vào số nguyên b1: \"))\n",
        "# Tính tổng của 2 số:\n",
        "# Gán tổng a1 và b1 cho biến addition1\n",
        "addition1 = a1+b1\n",
        "print(f'Tổng của 2 số là: {addition1}')\n",
        "# Tính hiệu của 2 số b1 với a1:\n",
        "# Gán hiệu a1 và b1 cho biến minus1\n",
        "minus1 = a1 - b1\n",
        "print(f'Hiệu của 2 số là: {minus1}')\n",
        "# Tính tích của 2 số:\n",
        "# Gán tích a1 và b1 cho biến multiply1\n",
        "multiply1 = a1*b1\n",
        "print(f'Tích của 2 số là: {multiply1}')\n",
        "# Thực hiện phép chia lấy phần dư của 2 số:\n",
        "# Gán phần dư của phép chi a1 với b1 cho biến mod1\n",
        "mod1 = a1%b1\n",
        "print(f'Phần dư của a%b là: {mod1}')\n",
        "# Thực hiện phép chia lấy phần nguyên của 2 số:\n",
        "# Gán kết quả phép chia lấy phần nguyên của a1 với b1 cho biến div_int\n",
        "div_int = int(a1/b1)\n",
        "print(f'Phần nguyên của phép chia a với b là: {div_int}')\n"
      ],
      "execution_count": null,
      "outputs": [
        {
          "output_type": "stream",
          "name": "stdout",
          "text": [
            "Nhập vào số nguyên a1: 5\n",
            "Nhập vào số nguyên b1: -2\n",
            "Tổng của 2 số là: 3\n",
            "Hiệu của 2 số là: 7\n",
            "Tích của 2 số là: -10\n",
            "Phần dư của a%b là: -1\n",
            "Phần nguyên của phép chia a với b là: -2\n"
          ]
        }
      ]
    },
    {
      "cell_type": "markdown",
      "metadata": {
        "id": "j2suJwVPM5Zk"
      },
      "source": [
        "Bài 2: Lập trình nhập vào từ bàn phím 2 số thực và tính:\n",
        "\n",
        "1.   Tổng của 2 số\n",
        "2.   Tích của 2 số\n",
        "3.   Hiệu của 2 số\n",
        "4.   Thương của 2 số\n",
        "\n",
        "Kết quả xuất ra màn hình"
      ]
    },
    {
      "cell_type": "code",
      "metadata": {
        "id": "fmlD-ggRMh9q",
        "colab": {
          "base_uri": "https://localhost:8080/"
        },
        "outputId": "366f280e-b2d8-4652-f5db-982f37d1bdc7"
      },
      "source": [
        "# Bài 2\n",
        "# Nhập vào từ bàn phím 2 số nguyên a1,b1:\n",
        "# Test Case: a2 = 8, b2 = -3\n",
        "a2 = int(input(\"Nhập vào số nguyên a2: \"))\n",
        "b2 = int(input(\"Nhập vào số nguyên b2: \"))\n",
        "# 2.1.Tính tổng của 2 số:\n",
        "# Gán tổng a1 và b1 cho biến addition2\n",
        "addition2 = a2+b2\n",
        "print(f'Tổng của 2 số là: {addition2}')\n",
        "# 2.2.Tính hiệu của 2 số b2 với a2:\n",
        "# Gán hiệu a2 và b2 cho biến minus2\n",
        "minus2 = a2 - b2\n",
        "print(f'Hiệu của 2 số là: {minus2}')\n",
        "# 2.3.Tính tích của 2 số:\n",
        "# Gán tích a2 và b2 cho biến multiply2\n",
        "multiply2 = a2*b2\n",
        "print(f'Tích của 2 số là: {multiply2}')\n",
        "# 2.4.Tính thương của 2 số:\n",
        "# Gán phần dư của phép chi a1 với b1 cho biến mod1\n",
        "div2 = a2/b2\n",
        "print(f'Thương của 2 số là: {div2}')\n"
      ],
      "execution_count": null,
      "outputs": [
        {
          "output_type": "stream",
          "name": "stdout",
          "text": [
            "Nhập vào số nguyên a2: 8\n",
            "Nhập vào số nguyên b2: -3\n",
            "Tổng của 2 số là: 5\n",
            "Hiệu của 2 số là: 11\n",
            "Tích của 2 số là: -24\n",
            "Thương của 2 số là: -2.6666666666666665\n"
          ]
        }
      ]
    },
    {
      "cell_type": "markdown",
      "metadata": {
        "id": "sOCly6AvNUAN"
      },
      "source": [
        "Bài 3: (Sử dụng các hàm toán học) Nhập một số từ bàn phím và tính:\n",
        "\n",
        "\n",
        "\n",
        "1.   Trị tuyệt đối\n",
        "2.   Lấy phần nguyên của số\n",
        "3.   Chuyển đổi thành số thực\n",
        "4.   (nhập thêm 1 số từ bàn phím) và tính lũy thừa $ x^y $\n",
        "5.   Tính căn bậc hai\n",
        "\n",
        "Kết quả xuất ra màn hình\n",
        "\n"
      ]
    },
    {
      "cell_type": "code",
      "metadata": {
        "id": "XNKN4yAoOUAa",
        "colab": {
          "base_uri": "https://localhost:8080/"
        },
        "outputId": "7849a22c-0acd-4f49-d5cd-e83eaf7169df"
      },
      "source": [
        "#Bài 3\n",
        "from math import sqrt, pow\n",
        "# Nhập 1 số từ bàn phím:\n",
        "x = float(input(\"Nhập vào 1 số: \"))\n",
        "# 3.1. In ra giá trị tuyệt đối của số vừa nhập:\n",
        "_abs_of_x = abs(x)\n",
        "print(f'Giá trị tuyệt đối của x là: {_abs_of_x}')\n",
        "# 3.2. Lấy ra phần nguyên của số vừa nhập\n",
        "_int_of_x = int(x)\n",
        "print(f'Phần nguyên của x là: {_int_of_x}')\n",
        "# 3.3. Chuyển đổi x thành số thực:\n",
        "_float_of_x = float(x)\n",
        "print(f'Chuyển đổi x thành số thực x là: {_float_of_x}')\n",
        "# 3.4.1 Nhập vào từ bàn phím 1 số y:\n",
        "y = float(input(\"Nhập vào số y: \"))\n",
        "# 3.4.2 In ra kết quả của phép tính x^y\n",
        "_pow_of_xy = pow(x,y)\n",
        "print(f'Kết quả của x^y: {_pow_of_xy}')\n",
        "# 3.5. Tính căn bậc 2 của x:\n",
        "_sqrt_of_x = sqrt(x)\n",
        "print(f'Tính căn bậc 2 của x: {_sqrt_of_x}')"
      ],
      "execution_count": null,
      "outputs": [
        {
          "output_type": "stream",
          "name": "stdout",
          "text": [
            "Nhập vào 1 số: 4.3\n",
            "Giá trị tuyệt đối của x là: 4.3\n",
            "Phần nguyên của x là: 4\n",
            "Chuyển đổi x thành số thực x là: 4.3\n",
            "Nhập vào số y: 2\n",
            "Kết quả của x^y: 18.49\n",
            "Tính căn bậc 2 của x: 2.073644135332772\n"
          ]
        }
      ]
    },
    {
      "cell_type": "markdown",
      "metadata": {
        "id": "79zQGrU5Od-d"
      },
      "source": [
        "Bài 4: Nhập 2 số từ bàn phím và thực hiện các phép so sánh sau giữa 2 số:\n",
        "\n",
        "\n",
        "\n",
        "1.   $ \\geq $\n",
        "2.   $ \\leq $\n",
        "3.   $ > $\n",
        "4.   $ < $\n",
        "5.   $ \\neq $\n",
        "\n",
        "Kết quả xuất ra màn hình\n"
      ]
    },
    {
      "cell_type": "code",
      "metadata": {
        "id": "qePknJEaP1tL",
        "colab": {
          "base_uri": "https://localhost:8080/"
        },
        "outputId": "47262ddc-faa4-494e-b00f-d31d622caaf6"
      },
      "source": [
        "# Bài 4.\n",
        "m = float(input(\"Nhập vào m: \"))\n",
        "n = float(input(\"Nhập vào n: \"))\n",
        "\n",
        "if(m >= n):\n",
        "  print(\"m >= n\")\n",
        "if(m <= n ):\n",
        "  print(\"m <= n\")\n",
        "if(m > n):\n",
        "  print(\"m > n\")\n",
        "if(m < n):\n",
        "  print(\"m < n\")\n",
        "if(m != n):\n",
        "  print(\"m # n\")    \n"
      ],
      "execution_count": null,
      "outputs": [
        {
          "output_type": "stream",
          "name": "stdout",
          "text": [
            "Nhập vào m: 4\n",
            "Nhập vào n: 4\n",
            "m >= n\n",
            "m <= n\n"
          ]
        }
      ]
    },
    {
      "cell_type": "markdown",
      "metadata": {
        "id": "90lU8sTXP4hu"
      },
      "source": [
        "Bài 5: Nhập 1 chuỗi ký tự từ bàn phím:\n",
        "\n",
        "\n",
        "\n",
        "1.   Chuyển thành chuỗi in hoa\n",
        "2.   Chuyển thành chuỗi in thường\n",
        "\n",
        "Kết quả xuất ra màn hình\n",
        "\n",
        "\n",
        "\n"
      ]
    },
    {
      "cell_type": "code",
      "metadata": {
        "id": "PWIIssukQXja",
        "colab": {
          "base_uri": "https://localhost:8080/"
        },
        "outputId": "fd9d1bd6-6a36-46bd-c784-2cf2c12c6873"
      },
      "source": [
        "# Bài 5\n",
        "# 5.0 Nhập vào 1 chuỗi từ bàn phím:\n",
        "_new_string = input(\"Nhập vào 1 chuỗi từ bàn phím: \")\n",
        "# 5.1 Chuyển thành chuỗi in hoa:\n",
        "_upper_string = _new_string.upper()\n",
        "print(f'Chuỗi {_new_string} được chuyển thành: {_upper_string}')\n",
        "# 5.2 Chuyển thành chuỗi in thường:\n",
        "_lower_string = _new_string.lower()\n",
        "print(f'Chuỗi {_new_string} được chuyển thành: {_lower_string}')\n"
      ],
      "execution_count": null,
      "outputs": [
        {
          "output_type": "stream",
          "name": "stdout",
          "text": [
            "Nhập vào 1 chuỗi từ bàn phím: abcDZ\n",
            "Chuỗi abcDZ được chuyển thành: ABCDZ\n",
            "Chuỗi abcDZ được chuyển thành: abcdz\n"
          ]
        }
      ]
    },
    {
      "cell_type": "markdown",
      "metadata": {
        "id": "gv9n9-gMQZ7O"
      },
      "source": [
        "Bài 6: Xuất ra màn hình 1 chuỗi ký từ nằm trên nhiều hàng (có thể là 1 bài thơ tùy ý bạn lựa chọn)"
      ]
    },
    {
      "cell_type": "code",
      "metadata": {
        "id": "ZcjBCkQOQoS0",
        "colab": {
          "base_uri": "https://localhost:8080/"
        },
        "outputId": "815dcf91-bf87-4573-f13a-46139f194775"
      },
      "source": [
        "# Bài 6:\n",
        "# Bản chất bài tập là in ra nội dung trên nhiều dòng.\n",
        "# Sử dụng ký pháp \\n để bắt đầu 1 dòng mới:\n",
        "# 6.1 Gán giá trị cho chuỗi long_string\n",
        "long_string = '''Đoàn quân Việt Nam đi chung lòng cứu quốc.\\n\n",
        "Bước chân dồn vang trên đường gập ghềnh xa.\\n\n",
        "Cờ in máu chiến thắng mang hồn nước.\\n\n",
        "Súng ngoài xa chen khúc quân hành ca.\\n\n",
        "Đường vinh quang xây xác quân thù.\\n\n",
        "Thắng gian lao cùng nhau lập chiến khu.\\n\n",
        "Vì nhân dân chiến đấu không ngừng.\\n\n",
        "Tiến mau ra sa trường.\\n\n",
        "Tiến lên! Cùng tiến lên!\\n\n",
        "Nước non Việt Nam ta vững bền.'''\n",
        "# 6.2 In ra chuỗi long_string\n",
        "print(long_string)\n",
        "\n"
      ],
      "execution_count": null,
      "outputs": [
        {
          "output_type": "stream",
          "name": "stdout",
          "text": [
            "Đoàn quân Việt Nam đi chung lòng cứu quốc.\n",
            "\n",
            "Bước chân dồn vang trên đường gập ghềnh xa.\n",
            "\n",
            "Cờ in máu chiến thắng mang hồn nước.\n",
            "\n",
            "Súng ngoài xa chen khúc quân hành ca.\n",
            "\n",
            "Đường vinh quang xây xác quân thù.\n",
            "\n",
            "Thắng gian lao cùng nhau lập chiến khu.\n",
            "\n",
            "Vì nhân dân chiến đấu không ngừng.\n",
            "\n",
            "Tiến mau ra sa trường.\n",
            "\n",
            "Tiến lên! Cùng tiến lên!\n",
            "\n",
            "Nước non Việt Nam ta vững bền.\n"
          ]
        }
      ]
    },
    {
      "cell_type": "code",
      "metadata": {
        "id": "ZsU0tcFu2_4y"
      },
      "source": [
        ""
      ],
      "execution_count": null,
      "outputs": []
    }
  ]
}
