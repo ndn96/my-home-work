{
  "nbformat": 4,
  "nbformat_minor": 0,
  "metadata": {
    "colab": {
      "name": "06-Syllabus-07102021.ipynb",
      "provenance": [],
      "authorship_tag": "ABX9TyMa66K13wDBM2lzNBIzo90I",
      "include_colab_link": true
    },
    "kernelspec": {
      "name": "python3",
      "display_name": "Python 3"
    },
    "language_info": {
      "name": "python"
    }
  },
  "cells": [
    {
      "cell_type": "markdown",
      "metadata": {
        "id": "view-in-github",
        "colab_type": "text"
      },
      "source": [
        "<a href=\"https://colab.research.google.com/github/ndn96/my-home-work/blob/main/06_Syllabus_07102021.ipynb\" target=\"_parent\"><img src=\"https://colab.research.google.com/assets/colab-badge.svg\" alt=\"Open In Colab\"/></a>"
      ]
    },
    {
      "cell_type": "code",
      "metadata": {
        "colab": {
          "base_uri": "https://localhost:8080/"
        },
        "id": "jLNcpx08Ca0W",
        "outputId": "dc3b598d-8679-4c28-898a-ed1a804cdef7"
      },
      "source": [
        "# Bài 1: Print First 10 natural numbers using while loop\n",
        "i = 1\n",
        "while(i<=10):\n",
        "    print(i)\n",
        "    i += 1"
      ],
      "execution_count": 1,
      "outputs": [
        {
          "output_type": "stream",
          "name": "stdout",
          "text": [
            "1\n",
            "2\n",
            "3\n",
            "4\n",
            "5\n",
            "6\n",
            "7\n",
            "8\n",
            "9\n",
            "10\n"
          ]
        }
      ]
    },
    {
      "cell_type": "code",
      "metadata": {
        "colab": {
          "base_uri": "https://localhost:8080/"
        },
        "id": "OIdkeXJqMuJ5",
        "outputId": "e0cb745b-f8e1-46ee-b7f8-e084174131c1"
      },
      "source": [
        "# Bài 2: Print the following pattern\n",
        "rows = 5\n",
        "for i in range(rows, 0, -1):\n",
        "    for j in range(i, 0,-1):\n",
        "        print(j, end=' ')\n",
        "    print(\"\\r\")"
      ],
      "execution_count": 15,
      "outputs": [
        {
          "output_type": "stream",
          "name": "stdout",
          "text": [
            "5 4 3 2 1 \r\n",
            "4 3 2 1 \r\n",
            "3 2 1 \r\n",
            "2 1 \r\n",
            "1 \r\n"
          ]
        }
      ]
    },
    {
      "cell_type": "code",
      "metadata": {
        "colab": {
          "base_uri": "https://localhost:8080/"
        },
        "id": "PwkLaiTcNu0F",
        "outputId": "f42cbd18-8ceb-45f7-99cb-961808a760fc"
      },
      "source": [
        "# Bài 3: Calculate the sum of all numbers from 1 to a given number\n",
        "n = int(input('Mời nhập vào số nguyên n: '))\n",
        "total3 = n*(n+1)/2\n",
        "print(f'Tổng của các số từ 1 đến n là: {total3}')"
      ],
      "execution_count": 16,
      "outputs": [
        {
          "output_type": "stream",
          "name": "stdout",
          "text": [
            "Mời nhập vào số nguyên n: 3\n",
            "Tổng của các số từ 1 đến n là: 6.0\n"
          ]
        }
      ]
    },
    {
      "cell_type": "code",
      "metadata": {
        "colab": {
          "base_uri": "https://localhost:8080/"
        },
        "id": "-D6HNhmTPATi",
        "outputId": "72c5f981-8d63-4550-de34-a1f117e59e5a"
      },
      "source": [
        "# 4. Write a program to print multiplication table of a given number with natural numbers from 1 to 10.\n",
        "num = int(input(\"Mời nhập vào số nguyên n: \"))\n",
        "print(f'Bảng cửu chương của {num} với các số tự nhiên từ 1 đến 10.')\n",
        "for i in range(1, 11):\n",
        "   print(num,\"X\",i,\"=\",num * i)"
      ],
      "execution_count": 18,
      "outputs": [
        {
          "output_type": "stream",
          "name": "stdout",
          "text": [
            "Mời nhập vào số nguyên n: 10\n",
            "Bảng cửu chương của 10 với các số tự nhiên từ 1 đến 10.\n",
            "10 X 1 = 10\n",
            "10 X 2 = 20\n",
            "10 X 3 = 30\n",
            "10 X 4 = 40\n",
            "10 X 5 = 50\n",
            "10 X 6 = 60\n",
            "10 X 7 = 70\n",
            "10 X 8 = 80\n",
            "10 X 9 = 90\n",
            "10 X 10 = 100\n"
          ]
        }
      ]
    },
    {
      "cell_type": "code",
      "metadata": {
        "colab": {
          "base_uri": "https://localhost:8080/"
        },
        "id": "V8JcnQTNPuO3",
        "outputId": "fe8433cc-86a4-4df3-e0e7-143a1759946d"
      },
      "source": [
        "# 5. Display numbers from a list using loop\n",
        "a = [1, 2, 3, 4, 5]\n",
        "  \n",
        "# printing the list using loop\n",
        "for x in range(len(a)):\n",
        "    print(a[x])"
      ],
      "execution_count": 21,
      "outputs": [
        {
          "output_type": "stream",
          "name": "stdout",
          "text": [
            "1\n",
            "2\n",
            "3\n",
            "4\n",
            "5\n"
          ]
        }
      ]
    },
    {
      "cell_type": "code",
      "metadata": {
        "colab": {
          "base_uri": "https://localhost:8080/"
        },
        "id": "4wyvZJAOQHyu",
        "outputId": "f14120cc-3564-4978-ec7e-bf97a88d1e71"
      },
      "source": [
        "# 6. Count the total number of digits in a number\n",
        "inputNumber = int(input(\"Mời bạn nhập vào 1 số nguyên: \"))\n",
        "numDigit = 0\n",
        "while inputNumber != 0 :\n",
        "  inputNumber //= 10\n",
        "  numDigit += 1\n",
        "print(f'Number of digits {numDigit}')\n"
      ],
      "execution_count": 23,
      "outputs": [
        {
          "output_type": "stream",
          "name": "stdout",
          "text": [
            "Mời bạn nhập vào 1 số nguyên: 1234\n",
            "Number of digits 4\n"
          ]
        }
      ]
    },
    {
      "cell_type": "code",
      "metadata": {
        "colab": {
          "base_uri": "https://localhost:8080/"
        },
        "id": "Sn9VMbsfQ1kk",
        "outputId": "96e70a13-8c0d-4cb4-e41c-a0d826533275"
      },
      "source": [
        "# 7. List of string\n",
        "list1 = [10, 20, 30, 40, 50]\n",
        "for i in range(len(list1)-1,-1,-1):\n",
        "  print(list1[i])"
      ],
      "execution_count": 28,
      "outputs": [
        {
          "output_type": "stream",
          "name": "stdout",
          "text": [
            "50\n",
            "40\n",
            "30\n",
            "20\n",
            "10\n"
          ]
        }
      ]
    },
    {
      "cell_type": "code",
      "metadata": {
        "colab": {
          "base_uri": "https://localhost:8080/"
        },
        "id": "HPd8DPNVSC3W",
        "outputId": "ad98df42-2e06-4e83-f686-37736c7dd8ac"
      },
      "source": [
        "# 8. Display numbers from -10 to -1 using for loop\n",
        "for x in range(-10,0):\n",
        "  print(x)"
      ],
      "execution_count": 29,
      "outputs": [
        {
          "output_type": "stream",
          "name": "stdout",
          "text": [
            "-10\n",
            "-9\n",
            "-8\n",
            "-7\n",
            "-6\n",
            "-5\n",
            "-4\n",
            "-3\n",
            "-2\n",
            "-1\n"
          ]
        }
      ]
    },
    {
      "cell_type": "code",
      "metadata": {
        "colab": {
          "base_uri": "https://localhost:8080/"
        },
        "id": "NFB0T9E4S6PZ",
        "outputId": "ed022650-1712-413d-a479-af82815ee5d6"
      },
      "source": [
        "# 9. Use else block to display a message “Done” after successful execution of for loop\n",
        "for x in range(1,4):\n",
        "  print(x)"
      ],
      "execution_count": 30,
      "outputs": [
        {
          "output_type": "stream",
          "name": "stdout",
          "text": [
            "1\n",
            "2\n",
            "3\n"
          ]
        }
      ]
    },
    {
      "cell_type": "code",
      "metadata": {
        "colab": {
          "base_uri": "https://localhost:8080/"
        },
        "id": "bNoBZZdRTYHJ",
        "outputId": "7969a879-a3f5-44db-e3d7-cf2e59b7a9c0"
      },
      "source": [
        "# 10. Write a program to display all prime numbers within a range\n",
        "start10 = int(input('Mời nhập vào 1 số nguyên start: '))\n",
        "end10 = int(input('Mời nhập vào 1 số nguyên end: '))\n",
        "  \n",
        "for i in range(start10, end10+1):\n",
        "  if i>1:\n",
        "    for j in range(2,i):\n",
        "        if(i % j==0):\n",
        "            break\n",
        "    else:\n",
        "        print(i)"
      ],
      "execution_count": 48,
      "outputs": [
        {
          "output_type": "stream",
          "name": "stdout",
          "text": [
            "Mời nhập vào 1 số nguyên start: 11\n",
            "Mời nhập vào 1 số nguyên end: 25\n",
            "11\n",
            "13\n",
            "17\n",
            "19\n",
            "23\n"
          ]
        }
      ]
    },
    {
      "cell_type": "code",
      "metadata": {
        "colab": {
          "base_uri": "https://localhost:8080/"
        },
        "id": "wQZxi6iSTaal",
        "outputId": "d16c5d1e-333d-457a-ca34-9c624079458e"
      },
      "source": [
        "# 11. Display Fibonacci series up to 10 terms\n",
        "nterms = int(input(\"How many terms? \"))\n",
        "\n",
        "# first two terms\n",
        "n1, n2 = 0, 1\n",
        "count = 0\n",
        "\n",
        "# check if the number of terms is valid\n",
        "if nterms <= 0:\n",
        "   print(\"Please enter a positive integer\")\n",
        "# if there is only one term, return n1\n",
        "elif nterms == 1:\n",
        "   print(\"Fibonacci sequence upto\",nterms,\":\")\n",
        "   print(n1)\n",
        "# generate fibonacci sequence\n",
        "else:\n",
        "   print(\"Fibonacci sequence:\")\n",
        "   while count < nterms:\n",
        "       print(n1)\n",
        "       nth = n1 + n2\n",
        "       # update values\n",
        "       n1 = n2\n",
        "       n2 = nth\n",
        "       count += 1"
      ],
      "execution_count": 53,
      "outputs": [
        {
          "output_type": "stream",
          "name": "stdout",
          "text": [
            "How many terms? 10\n",
            "Fibonacci sequence:\n",
            "0\n",
            "1\n",
            "1\n",
            "2\n",
            "3\n",
            "5\n",
            "8\n",
            "13\n",
            "21\n",
            "34\n"
          ]
        }
      ]
    },
    {
      "cell_type": "code",
      "metadata": {
        "colab": {
          "base_uri": "https://localhost:8080/"
        },
        "id": "SKa-Fm0ITcUV",
        "outputId": "fff5911e-0da4-40ac-f485-362d68b19282"
      },
      "source": [
        "# 12. Find the factorial of a given number\n",
        "n12 = int(input('Mời nhập vào 1 số nguyên: '))\n",
        "if n12 < 0:\n",
        "        print(0)\n",
        "elif n12 == 0 or n12 == 1:\n",
        "    print(1)\n",
        "else:\n",
        "    fact = 1\n",
        "    while(n12 > 1):\n",
        "        fact *= n12\n",
        "        n12 -= 1\n",
        "    print(fact)"
      ],
      "execution_count": 46,
      "outputs": [
        {
          "output_type": "stream",
          "name": "stdout",
          "text": [
            "Mời nhập vào 1 số nguyên: 5\n",
            "120\n"
          ]
        }
      ]
    },
    {
      "cell_type": "code",
      "metadata": {
        "colab": {
          "base_uri": "https://localhost:8080/"
        },
        "id": "QzvsqESsTen-",
        "outputId": "8b131252-4ad7-43f1-f15f-f6b11b9b0929"
      },
      "source": [
        "# 13. Reverse a given integer number\n",
        "n13 = int(input('Mời nhập vào 1 số nguyên: '))\n",
        "rev = 0\n",
        "while(n13 > 0):\n",
        "    a = n13 % 10\n",
        "    rev = rev * 10 + a\n",
        "    n13 = n13 // 10\n",
        "print(rev)"
      ],
      "execution_count": 35,
      "outputs": [
        {
          "output_type": "stream",
          "name": "stdout",
          "text": [
            "Mời nhập vào 1 số nguyên: 12345\n",
            "54321\n"
          ]
        }
      ]
    },
    {
      "cell_type": "code",
      "metadata": {
        "colab": {
          "base_uri": "https://localhost:8080/"
        },
        "id": "ZwHuUBkDThlF",
        "outputId": "c22253fa-96e0-4574-a891-fa8ac8b9e478"
      },
      "source": [
        "# 14. Use a loop to display elements from a given list present at odd index positions\n",
        "arr = [0, 1, 2, 3, 4, 5]\n",
        "for i in arr:\n",
        "  if i % 2 == 1:\n",
        "    print(arr[i])"
      ],
      "execution_count": 42,
      "outputs": [
        {
          "output_type": "stream",
          "name": "stdout",
          "text": [
            "1\n",
            "3\n",
            "5\n"
          ]
        }
      ]
    },
    {
      "cell_type": "code",
      "metadata": {
        "colab": {
          "base_uri": "https://localhost:8080/"
        },
        "id": "8zB0YZ9dTncG",
        "outputId": "f4df4110-7e83-46e8-869e-d35c20fa8798"
      },
      "source": [
        "# 15. Calculate the cube of all numbers from 1 to a given number\n",
        "\n",
        "# Calculate cube of n:\n",
        "cubeInput = int(input('Mời nhập vào 1 số nguyên: '))\n",
        "sumCube = 0\n",
        "for i in range(1, cubeInput + 1):\n",
        "  sumCube += i * i*i \n",
        "print(sumCube)"
      ],
      "execution_count": 33,
      "outputs": [
        {
          "output_type": "stream",
          "name": "stdout",
          "text": [
            "Mời nhập vào 1 số nguyên: 5\n",
            "225\n"
          ]
        }
      ]
    }
  ]
}