{
  "nbformat": 4,
  "nbformat_minor": 0,
  "metadata": {
    "colab": {
      "name": "04-Lap-trinh-voi-cau-truc-du-lieu-nang-cao-14102021.ipynb",
      "provenance": [],
      "collapsed_sections": [],
      "authorship_tag": "ABX9TyPWAWCeYCMiPdn0NIRzGNi5",
      "include_colab_link": true
    },
    "kernelspec": {
      "name": "python3",
      "display_name": "Python 3"
    },
    "language_info": {
      "name": "python"
    }
  },
  "cells": [
    {
      "cell_type": "markdown",
      "metadata": {
        "id": "view-in-github",
        "colab_type": "text"
      },
      "source": [
        "<a href=\"https://colab.research.google.com/github/ndn96/my-home-work/blob/main/04_Lap_trinh_voi_cau_truc_du_lieu_nang_cao_14102021.ipynb\" target=\"_parent\"><img src=\"https://colab.research.google.com/assets/colab-badge.svg\" alt=\"Open In Colab\"/></a>"
      ]
    },
    {
      "cell_type": "code",
      "metadata": {
        "colab": {
          "base_uri": "https://localhost:8080/"
        },
        "id": "shXMB-TCzVxf",
        "outputId": "58c31305-007d-433f-af08-59c45a4133f8"
      },
      "source": [
        "# BÀI TẬP LẬP TRÌNH VỚI CẤU TRÚC DỮ LIỆU NÂNG CAO\n",
        "# Bài 1: Viết chương trình thực hiện các yêu cầu sau:\n",
        "# - Nhập vào 1 số nguyên dương N từ bàn phím\n",
        "# - Hãy xây dựng 1 dictionary với các phần tử chỉ mục và giá trị có dạng (i: log(i)) với I đi từ\n",
        "# 0 tới N\n",
        "# B1: Nhập vào 1 số từ bàn phím:\n",
        "# B2: Build 1 dictionary với các phần từ có format như sau {i: log(i)} và i in range(1,k = N+1) = 1 -> N\n",
        "import math\n",
        "n1 = int(input(\"Mời bạn nhập vào 1 số: \"))\n",
        "def createDict(_input):\n",
        "    if(_input <= 0):\n",
        "        return False\n",
        "    _dict = {}\n",
        "    for idx in range(1, _input + 1):\n",
        "        _dict.update({idx : round(math.log(idx), 2)})\n",
        "    # print(_dict)\n",
        "    return _dict\n",
        "print(f'Dict mới được tạo là: {createDict(n1)}')"
      ],
      "execution_count": 10,
      "outputs": [
        {
          "output_type": "stream",
          "name": "stdout",
          "text": [
            "Mời bạn nhập vào 1 số: 10\n",
            "Dict mới được tạo là: {1: 0.0, 2: 0.69, 3: 1.1, 4: 1.39, 5: 1.61, 6: 1.79, 7: 1.95, 8: 2.08, 9: 2.2, 10: 2.3}\n"
          ]
        }
      ]
    },
    {
      "cell_type": "code",
      "metadata": {
        "colab": {
          "base_uri": "https://localhost:8080/"
        },
        "id": "t_ebSosx3bxk",
        "outputId": "309ecf1d-daa9-48af-8901-9fcba8297ad7"
      },
      "source": [
        "# Bài 2: Viết chương trình thực hiện các yêu cầu sau:\n",
        "# - Nhập vào từ bàn phím một chuỗi các giá trị (có thể là số nguyên, số thực hay các ký tự)\n",
        "# cách nhau bởi dấu phẩy (“,”).\n",
        "# - Chuyển chuỗi được nhập từ bàn phím thành một danh sách (list)\n",
        "# - Hiển thị danh sách đó ra màn hình.\n",
        "# B1: Nhập vào từ bàn phím một chuỗi các giá trị (có thể là số nguyên, số thực hay các ký tự)\n",
        "# # cách nhau bởi dấu phẩy (“,”).\n",
        "_inputString2 = input(\"Mời bạn nhập vào danh sách các ký tự\\nCách nhau bởi dấu \\',\\' :\")\n",
        "# B2: Chuyển chuỗi đã nhập thành 1 list:\n",
        "_listFromInputString2 = _inputString2.split(\",\")\n",
        "# B3: In List đó ra màn hình:\n",
        "print(f'List tạo ra có dạng: {_listFromInputString2} : Kiểu dữ liệu của nó là {type(_listFromInputString2)}')"
      ],
      "execution_count": 12,
      "outputs": [
        {
          "output_type": "stream",
          "name": "stdout",
          "text": [
            "Mời bạn nhập vào danh sách các ký tự\n",
            "Cách nhau bởi dấu ',' :1,2,a,b,c\n",
            "List tạo ra có dạng: ['1', '2', 'a', 'b', 'c'] : Kiểu dữ liệu của nó là <class 'list'>\n"
          ]
        }
      ]
    },
    {
      "cell_type": "code",
      "metadata": {
        "colab": {
          "base_uri": "https://localhost:8080/"
        },
        "id": "6wu_AzXa5ogd",
        "outputId": "dd594db4-d0d2-48b0-e134-64ff7bca1e88"
      },
      "source": [
        "# Bài 3: Viết chương trình thực hiện các yêu cầu sau:\n",
        "# - Nhập vào từ bàn phím một chuỗi các giá trị (có thể là số nguyên, số thực hay các ký tự)\n",
        "# cách nhau bởi dấu phẩy (“,”).\n",
        "# - Chuyển chuỗi được nhập từ bàn phím thành một tuple\n",
        "# - Hiển thị tuple đó ra màn hình.\n",
        "# B1: Nhập vào từ bàn phím một chuỗi các giá trị (có thể là số nguyên, số thực hay các ký tự)\n",
        "# # cách nhau bởi dấu phẩy (“,”).\n",
        "_inputString3 = input(\"Mời bạn nhập vào danh sách các ký tự\\nCách nhau bởi dấu \\',\\' : \")\n",
        "# B2: Chuyển chuỗi đã nhập thành 1 Tuple:\n",
        "_listFromInputString3 = tuple(_inputString3.split(\",\"))\n",
        "# B3: In Tuple  đó ra màn hình:\n",
        "print(f'Tuple tạo ra có dạng: {_listFromInputString3} : Kiểu dữ liệu của nó là {type(_listFromInputString3)}')"
      ],
      "execution_count": 22,
      "outputs": [
        {
          "output_type": "stream",
          "name": "stdout",
          "text": [
            "Mời bạn nhập vào danh sách các ký tự\n",
            "Cách nhau bởi dấu ',' : 1,2,3,4\n",
            "Tuple tạo ra có dạng: ('1', '2', '3', '4') : Kiểu dữ liệu của nó là <class 'tuple'>\n"
          ]
        }
      ]
    },
    {
      "cell_type": "code",
      "metadata": {
        "colab": {
          "base_uri": "https://localhost:8080/"
        },
        "id": "vGVkkxWS8HoE",
        "outputId": "8fe0dbf0-542a-493d-87d4-8fa634953d12"
      },
      "source": [
        "# Bài 4: Viết chương trình thực hiện các yêu cầu sau:\n",
        "# - Nhập vào 1 chuỗi các kí tự từ bàn phím, các từ cách nhau bởi ít nhất một khoảng trắng\n",
        "# - Chuyển chuỗi vừa nhập thành 1 danh sách với điều kiện phân tách là dấu khoảng trắng\n",
        "# (space)\n",
        "# - Hiển thị danh sách thu được ra màn hình\n",
        "# B1: Nhập vào từ bàn phím một chuỗi các giá trị (có thể là số nguyên, số thực hay các ký tự)\n",
        "# # cách nhau bởi dấu phẩy (“,”).\n",
        "_inputString4 = input(\"Mời bạn nhập vào danh sách các ký tự\\nCách nhau bởi dấu \\',\\' : \")\n",
        "# B2: Chuyển chuỗi đã nhập thành 1 list:\n",
        "_listFromInputString4 = _inputString4.split(\" \")\n",
        "# B3: In List đó ra màn hình:\n",
        "print(f'List tạo ra có dạng: {_listFromInputString4} : Kiểu dữ liệu của nó là {type(_listFromInputString4)}')"
      ],
      "execution_count": 24,
      "outputs": [
        {
          "output_type": "stream",
          "name": "stdout",
          "text": [
            "Mời bạn nhập vào danh sách các ký tự\n",
            "Cách nhau bởi dấu ',' : 1 2 3 4\n",
            "List tạo ra có dạng: ['1', '2', '3', '4'] : Kiểu dữ liệu của nó là <class 'list'>\n"
          ]
        }
      ]
    },
    {
      "cell_type": "code",
      "metadata": {
        "colab": {
          "base_uri": "https://localhost:8080/"
        },
        "id": "4UD7wqeb85tU",
        "outputId": "9b7cc090-4a10-4ec7-f695-c4ec20b4d266"
      },
      "source": [
        "# Bài 5.1: Viết chương trình thực hiện các yêu cầu sau:\n",
        "# - Nhập vào 1 danh sách các số nguyên từ bàn phím (Quá trình nhập dừng khi người dùng\n",
        "# nhập vào 1 kí tự từ a đến z)\n",
        "import re\n",
        "n51 = input(\"Mời bạn nhập vào danh sách các số nguyên: \")\n",
        "if(re.search(\"\\W\", n51) == False):\n",
        "  print(\"Danh sách nhập vào có chứa kí tự không hợp lệ.\")\n",
        "else:\n",
        "# - Hiển thị danh sách đó ra màn hình\n",
        "  list51 = list(n51)\n",
        "  print(f'Danh sách bạn vừa nhập là: {list51}')\n",
        "\n",
        "# # - Yêu cầu người dùng nhập vào một số nguyên N từ bàn phím\n",
        "n52 = input(\"Mời bạn nhập vào một số nguyên N từ bàn phím: \")\n",
        "# # - Tìm kiếm vị trí xuất hiện đầu tiên của N trong danh sách và hiển thị ra màn hình (nếu không\n",
        "# # có thì thông báo không tìm thấy ra màn hình).\n",
        "if(str(n52) == list51[0]):\n",
        "  print(f\"Có tìm thấy số {n52} ở vị trí đầu tiên trong danh sách.\")\n",
        "else:\n",
        "  print(\"Không tìm thấy!\")\n",
        "# - Tìm kiếm tất cả các vị trí xuất hiện của N trong danh sách và hiển thị ra màn hình. (Nếu\n",
        "# không tìm thấy thì thông báo không tìm được ra màn hình)\n",
        "position = []\n",
        "for key, value in enumerate(list51):\n",
        "  # print(f'key: {key} value: {value}')\n",
        "  if(value == n52):\n",
        "    position.append(key)\n",
        "if(len(position) < 1):\n",
        "  print(\"Không tìm thấy!\")\n",
        "print(f'Các vị trí xuất hiện giá trị của N là: {position}')\n",
        "\n"
      ],
      "execution_count": 46,
      "outputs": [
        {
          "output_type": "stream",
          "name": "stdout",
          "text": [
            "Mời bạn nhập vào danh sách các số nguyên: 12345\n",
            "Danh sách bạn vừa nhập là: ['1', '2', '3', '4', '5']\n",
            "Mời bạn nhập vào một số nguyên N từ bàn phím: 1\n",
            "Có tìm thấy số 1 ở vị trí đầu tiên trong danh sách.\n",
            "Các vị trí xuất hiện giá trị của N là: [0]\n"
          ]
        }
      ]
    },
    {
      "cell_type": "code",
      "metadata": {
        "id": "1iY-OTfjG67b"
      },
      "source": [
        ""
      ],
      "execution_count": null,
      "outputs": []
    }
  ]
}