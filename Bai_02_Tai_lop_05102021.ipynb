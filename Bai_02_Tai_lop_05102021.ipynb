{
  "nbformat": 4,
  "nbformat_minor": 0,
  "metadata": {
    "colab": {
      "name": "Bai-02-Tai-lop-05102021.ipynb",
      "provenance": [],
      "authorship_tag": "ABX9TyPXkp6k1o4cKuzcKTFSn+D2",
      "include_colab_link": true
    },
    "kernelspec": {
      "name": "python3",
      "display_name": "Python 3"
    },
    "language_info": {
      "name": "python"
    }
  },
  "cells": [
    {
      "cell_type": "markdown",
      "metadata": {
        "id": "view-in-github",
        "colab_type": "text"
      },
      "source": [
        "<a href=\"https://colab.research.google.com/github/ndn96/my-home-work/blob/main/Bai_02_Tai_lop_05102021.ipynb\" target=\"_parent\"><img src=\"https://colab.research.google.com/assets/colab-badge.svg\" alt=\"Open In Colab\"/></a>"
      ]
    },
    {
      "cell_type": "code",
      "metadata": {
        "id": "yP9xtG-0Idyl"
      },
      "source": [
        "# 1. Write a Python program to get a number from the user and print whether it is positive or negative\n",
        "inputQuestion1 = float(input(\"Mời bạn nhập vào 1 số: \"))\n",
        "if inputQuestion1 == 0 :\n",
        "  print('Number is not positive or negative.')\n",
        "if inputQuestion1 > 0:\n",
        "  print('Number is positive.')\n",
        "else:\n",
        "  print('Number is negative')\n",
        "\n",
        "# 2. Take three numbers from the user and print the greatest number\n",
        "inputQuestion21 = float(input(\"Mời bạn nhập vào số thứ 1: \"))\n",
        "inputQuestion22 = float(input(\"Mời bạn nhập vào số thứ 2: \"))\n",
        "inputQuestion23 = float(input(\"Mời bạn nhập vào số thứ 3: \"))\n",
        "# In ra số lớn nhất trong 3 số vừa nhập:\n",
        "maxOfThreeNumber = max(inputQuestion21, inputQuestion22, inputQuestion23)\n",
        "print(f\"Greatest number is: {maxOfThreeNumber}\")\n",
        "\n",
        "# 3. Write a Python program that reads a floating-point number and prints \"zero\" if the number is\n",
        "# zero. Otherwise, print \"positive\" or \"negative\". Add \"small\" if the absolute value of the number is\n",
        "# less than 1, or \"large\" if it exceeds 1,000,000.\n",
        "\n",
        "inputQuestion3=float(input('Enter a number it could be positive, negative, zero : '))\n",
        "if inputQuestion3>0:\n",
        "    print (inputQuestion3,' Is positive number')\n",
        "    if abs(inputQuestion3)>1000000:\n",
        "        print ('Large')\n",
        "if inputQuestion3<0:\n",
        "    print(inputQuestion3,' Is Negative')\n",
        "    if abs(inputQuestion3)<1:\n",
        "        print ('Small')\n",
        "if inputQuestion3==0:\n",
        "    print (inputQuestion3,' Is zero')\n",
        "\n",
        "\n",
        "# 4. Write a Python program that keeps a number from the user and generates an integer between 1\n",
        "# and 7 and displays the name of the weekday.\n",
        "# print(Days[n-1])\n",
        "# Taken day number from user\n",
        "weekday = int(input(\"Enter weekday day number (1-7) : \"))\n",
        "\n",
        "if weekday == 1 :\n",
        "    print(\"\\nMonday\");\n",
        "\n",
        "elif weekday == 2 :\n",
        "    print(\"\\nTuesday\")\n",
        "\n",
        "elif(weekday == 3) :\n",
        "    print(\"\\nWednesday\")\n",
        "\n",
        "elif(weekday == 4) :\n",
        "    print(\"\\nThursday\")\n",
        "\n",
        "elif(weekday == 5) :\n",
        "    print(\"\\nFriday\")\n",
        "\n",
        "elif(weekday == 6) :\n",
        "    print(\"\\nSaturday\")\n",
        "\n",
        "elif (weekday == 7) :\n",
        "    print(\"\\nSunday\")\n",
        "\n",
        "else :\n",
        "    print(\"\\nPlease enter weekday number between 1-7.\")\n",
        "\n",
        "# 5. Write a Python program that reads in two floating-point numbers and tests whether they are the same up to three decimal places.\n",
        "x1 = float(input(\"Enter x1 : \"))\n",
        "y1 = float(input(\"Enter y1 : \"))\n",
        "x1 = round(x1*1000)\n",
        "x1 = x1/1000\n",
        "y1 = round(y1*1000)\n",
        "y1 = y1/1000\n",
        "if(x1 == y1):\n",
        "  print(\"They are the same up to three decimal places\")\n",
        "else:\n",
        "  print(\"They are different\")\n",
        "\n",
        "\n"
      ],
      "execution_count": null,
      "outputs": []
    }
  ]
}