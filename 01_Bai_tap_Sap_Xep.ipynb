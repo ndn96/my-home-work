{
  "nbformat": 4,
  "nbformat_minor": 0,
  "metadata": {
    "colab": {
      "name": "01-Bai-tap-Sap-Xep.ipynb",
      "provenance": [],
      "include_colab_link": true
    },
    "kernelspec": {
      "name": "python3",
      "display_name": "Python 3"
    },
    "language_info": {
      "name": "python"
    }
  },
  "cells": [
    {
      "cell_type": "markdown",
      "metadata": {
        "id": "view-in-github",
        "colab_type": "text"
      },
      "source": [
        "<a href=\"https://colab.research.google.com/github/ndn96/my-home-work/blob/main/01_Bai_tap_Sap_Xep.ipynb\" target=\"_parent\"><img src=\"https://colab.research.google.com/assets/colab-badge.svg\" alt=\"Open In Colab\"/></a>"
      ]
    },
    {
      "cell_type": "markdown",
      "metadata": {
        "id": "nmdoeAZLjUoE"
      },
      "source": [
        "Bài 1: Viết chương trình nhập vào từ bàn phím một danh sách gồm 10 số nguyên và thực hiện các\n",
        "yêu cầu sau:\n",
        "- Sắp xếp danh sách trên theo chiều tăng dần\n",
        "- In kết quả ra màn hình"
      ]
    },
    {
      "cell_type": "code",
      "metadata": {
        "colab": {
          "base_uri": "https://localhost:8080/"
        },
        "id": "D9QVL5Wxfm0q",
        "outputId": "932921f6-8c65-42ee-f5f1-dfbfd200356e"
      },
      "source": [
        "lit = []\n",
        "n = int(input('Mời nhập vào n: '))\n",
        "for i in range(0,n):\n",
        "  lit.append(input())\n",
        "print(lit)\n",
        "for i in range(len(lit)-1):\n",
        "  for j in range(i+1,len(lit)):\n",
        "    if int(lit[i]) > int(lit[j]):\n",
        "      m = lit[i]\n",
        "      lit[i] = lit[j]\n",
        "      lit[j] = m \n",
        "print(lit)"
      ],
      "execution_count": 1,
      "outputs": [
        {
          "output_type": "stream",
          "name": "stdout",
          "text": [
            "Mời nhập vào n: 10\n",
            "1\n",
            "2\n",
            "3\n",
            "4\n",
            "5\n",
            "3\n",
            "2\n",
            "7\n",
            "3\n",
            "1\n",
            "['1', '2', '3', '4', '5', '3', '2', '7', '3', '1']\n",
            "['1', '1', '2', '2', '3', '3', '3', '4', '5', '7']\n"
          ]
        }
      ]
    },
    {
      "cell_type": "markdown",
      "metadata": {
        "id": "k7kdDqoWjWBy"
      },
      "source": [
        "Bài 2: Viết chương trình thực hiện các yêu cầu sau:\n",
        "- Xây dựng hàm có tên nhap_danh_sach_so_nguyen(n), trong đó:\n",
        "o Tham số đầu vào n là số phần tử của danh sách;\n",
        "o Hàm này trả về một danh sách gồm n số nguyên được nhập vào từ bàn phím\n",
        "- Xây dựng hàm có tên sap_xep_danh_sach(x), trong đó:\n",
        "o Tham số đầu vào x là một danh sách các số nguyên\n",
        "o Hàm này trả về một danh sách các số nguyên được sắp xếp theo chiều tăng dần\n",
        "- Chương trình chính (__main__) gọi thực thi 2 hàm nêu trên và in kết quả sắp xếp ra màn\n",
        "hình."
      ]
    },
    {
      "cell_type": "code",
      "metadata": {
        "colab": {
          "base_uri": "https://localhost:8080/"
        },
        "id": "91TQX5QOjTaO",
        "outputId": "f9fcc785-b207-4d9b-c2ad-10a54c2f50ae"
      },
      "source": [
        "def nhap_danh_sach_so_nguyen(n):\n",
        "  print(\"hay nhap\" , n ,\" so vao nao` \")\n",
        "  for i in range(0,n):\n",
        "    lit.append(input())\n",
        "  return(lit)\n",
        "def sap_xep_danh_sach(lit):\n",
        "  for i in range(len(lit)):\n",
        "    for j in range(i+1,len(lit)):\n",
        "      if int(lit[i]) > int(lit[j]):\n",
        "        m = lit[i]\n",
        "        lit[i] = lit[j]\n",
        "        lit[j] = m \n",
        "  print(lit)\n",
        "if __name__ == \"__main__\":\n",
        "  lit = []\n",
        "  print(\"Hãy nhập độ dài: \")\n",
        "  n = int(input())\n",
        "  nhap_danh_sach_so_nguyen(n)\n",
        "  print(lit)\n",
        "  sap_xep_danh_sach(lit)"
      ],
      "execution_count": 2,
      "outputs": [
        {
          "output_type": "stream",
          "name": "stdout",
          "text": [
            "Hãy nhập độ dài: \n",
            "4\n",
            "hay nhap 4  so vao nao` \n",
            "1\n",
            "3\n",
            "2\n",
            "1\n",
            "['1', '3', '2', '1']\n",
            "['1', '1', '2', '3']\n"
          ]
        }
      ]
    },
    {
      "cell_type": "markdown",
      "metadata": {
        "id": "jiQv1ztuofMY"
      },
      "source": [
        "Bài 3: Viết chương trình nhập vào từ bàn phím một danh sách các số thực, theo các yeu cầu sau:\n",
        "- Sau khi nhập mỗi số thực từ bàn phím, chương trình hỏi người dùng có muốn tiếp tục nhập\n",
        "không. Nếu người dùng gõ ký tự n hoặc N thì kết thúc quá trình nhập;\n",
        "- Sắp xếp danh sách các số thực tren theo chiều giảm dần;\n",
        "- In kết quả ra màn hình."
      ]
    },
    {
      "cell_type": "code",
      "metadata": {
        "colab": {
          "base_uri": "https://localhost:8080/"
        },
        "id": "XzQ-7Z3lnfiB",
        "outputId": "70e073f1-8da9-436d-e9df-fb18b763d67b"
      },
      "source": [
        "n = \"y\"\n",
        "lit = []\n",
        "while n == \"y\":\n",
        "  lit.append(input(\"Hãy nhập số vào nào: \"))\n",
        "  print(\"Ấn n để kết thúc nhập!\")\n",
        "  a = input(\"n =\")\n",
        "  if a == \"n\" or a ==\"N\":\n",
        "    n = \"N\"\n",
        "for i in range(len(lit)-1):\n",
        "  for j in range(i+1,len(lit)):\n",
        "    if int(lit[i]) > int(lit[j]):\n",
        "      m = lit[i]\n",
        "      lit[i] = lit[j]\n",
        "      lit[j] = m \n",
        "print(lit)\n"
      ],
      "execution_count": 3,
      "outputs": [
        {
          "output_type": "stream",
          "name": "stdout",
          "text": [
            "Hãy nhập số vào nào: 10\n",
            "Ấn n để kết thúc nhập!\n",
            "n =Y\n",
            "Hãy nhập số vào nào: 2\n",
            "Ấn n để kết thúc nhập!\n",
            "n =n\n",
            "['2', '10']\n"
          ]
        }
      ]
    },
    {
      "cell_type": "markdown",
      "metadata": {
        "id": "O8YXSqDzYTs4"
      },
      "source": [
        "Bài 4: Viết chương trình thực hiện các yêu cầu sau:\n",
        "- Xây dựng hàm nhap_danh_sach_so_thuc( ) thỏa mãn các yêu cầu sau:\n",
        "o Sau khi nhập mỗi số thực từ bàn phím, chương trình hỏi người dùng có muốn tiếp\n",
        "tục nhập không. Nếu người dùng gõ ký tự n hoặc N thì kết thúc quá trình nhập;\n",
        "o Hàm trả về danh sách các số thực đã nhập.\n",
        "- Xây dựng hàm sap_xep_danh_sach_so_thuc(x), với:\n",
        "o Tham số đầu vào x là một danh sách các số thực;\n",
        "o Hàm này trả về một danh sách các số thực được sắp xếp theo chiều giảm dần\n",
        "\n",
        "- Chương trình chính (__main__) gọi thực thi 2 hàm nêu trên và in kết quả sắp xếp ra màn\n",
        "hình."
      ]
    },
    {
      "cell_type": "code",
      "metadata": {
        "id": "pEchOMuWI7Da",
        "colab": {
          "base_uri": "https://localhost:8080/"
        },
        "outputId": "d6ef5858-1be7-4ba7-edef-1bab37ea8948"
      },
      "source": [
        "\n",
        "def nhap_danh_sach_so_thuc():\n",
        "  n = \"y\"\n",
        "  while n == \"y\":\n",
        "    lit.append(input(\"Hãy nhập số vào nào: \"))\n",
        "    print(\"Ấn N để kết thúc nhập\")1\n",
        "    a = input(\"n =\")\n",
        "    if a == \"n\" or a ==\"N\":\n",
        "      n = \"N\"\n",
        "  return(lit)\n",
        "def sap_xep_danh_sach(lit):\n",
        "  for i in range(len(lit)):\n",
        "    for j in range(i+1,len(lit)):\n",
        "      if int(lit[i]) > int(lit[j]):\n",
        "        m = lit[i]\n",
        "        lit[i] = lit[j]\n",
        "        lit[j] = m \n",
        "  print(lit)\n",
        "if __name__ == \"__main__\":\n",
        "  lit = []\n",
        "  nhap_danh_sach_so_thuc()\n",
        "  print(lit)\n",
        "  sap_xep_danh_sach(lit)"
      ],
      "execution_count": 4,
      "outputs": [
        {
          "output_type": "stream",
          "name": "stdout",
          "text": [
            "Hãy nhập số vào nào: 1\n",
            "Ấn N để kết thúc nhập\n",
            "n =4\n",
            "Hãy nhập số vào nào: 3\n",
            "Ấn N để kết thúc nhập\n",
            "n =2\n",
            "Hãy nhập số vào nào: 5\n",
            "Ấn N để kết thúc nhập\n",
            "n =\n",
            "Hãy nhập số vào nào: 7\n",
            "Ấn N để kết thúc nhập\n",
            "n =n\n",
            "['1', '3', '5', '7']\n",
            "['1', '3', '5', '7']\n"
          ]
        }
      ]
    },
    {
      "cell_type": "markdown",
      "metadata": {
        "id": "ahc5TsdhOk3C"
      },
      "source": [
        "Bài 5: Viết chương trình thực hiện các yêu cầu sau:\n",
        "- Sinh ngẫu nhiên 1 danh sách số nguyên gồm n phần tử. Trong đó, n được nhập vào từ bàn\n",
        "phím và số nguyên sinh ra nằm trong khoảng từ 0 đến max_value. Giá trị max_value được\n",
        "nhập vào từ bàn phím;\n",
        "- Hỏi người dùng lựa chọn sắp xếp danh sách trên theo chiều tăng dần hay giảm dần và sắp\n",
        "xếp danh sách theo lựa chọn của người dùng;\n",
        "- In kết quả sắp xếp ra màn hình.\n",
        "\n"
      ]
    },
    {
      "cell_type": "code",
      "metadata": {
        "colab": {
          "base_uri": "https://localhost:8080/"
        },
        "id": "N05_ZVNiYYbQ",
        "outputId": "153e0598-43e3-416e-da30-8335c6f98121"
      },
      "source": [
        "import random\n",
        "lit = []\n",
        "print(\"hay nhap so max input\")\n",
        "b = int(input())\n",
        "print(\"hay nhap so n \")\n",
        "n = int(input())\n",
        "for i in range(n):\n",
        "  lit.append(random.randint(0,b))\n",
        "print(lit)\n",
        "print(\"ban muon xep theo thu tu tang dan hay giam dan \")\n",
        "c = input(\"chon so 1 de tang dan \")\n",
        "if c == \"1\":\n",
        "  for i in range(len(lit)-1):\n",
        "    for j in range(i+1,len(lit)):\n",
        "      if int(lit[i]) > int(lit[j]):\n",
        "        m = lit[i]\n",
        "        lit[i] = lit[j]\n",
        "        lit[j] = m \n",
        "else:\n",
        "  for i in range(len(lit)-1):\n",
        "    for j in range(i+1,len(lit)):\n",
        "      if int(lit[i]) < int(lit[j]):\n",
        "        m = lit[i]\n",
        "        lit[i] = lit[j]\n",
        "        lit[j] = m \n",
        "print(lit)\n"
      ],
      "execution_count": 5,
      "outputs": [
        {
          "output_type": "stream",
          "name": "stdout",
          "text": [
            "hay nhap so max input\n",
            "10\n",
            "hay nhap so n \n",
            "3\n",
            "[5, 9, 3]\n",
            "ban muon xep theo thu tu tang dan hay giam dan \n",
            "chon so 1 de tang dan 2\n",
            "[9, 5, 3]\n"
          ]
        }
      ]
    },
    {
      "cell_type": "markdown",
      "metadata": {
        "id": "FV8rcLyIHVRO"
      },
      "source": [
        "Bài 6: Viết chương trình thực hiện các yêu cầu sau:\n",
        "- Xây dựng hàm sinh_ngau_nhien_danh_sach_so_nguyen( ), thực hiện các thao tác sau:\n",
        "o Sinh ngẫu nhiên 1 danh sách số nguyên gồm n phần tử;\n",
        "o Trong đó, n được nhập vào từ bàn phím và số nguyên sinh ra nằm trong khoảng từ\n",
        "0 đến max_value;\n",
        "o Giá trị max_value được nhập vào từ bàn phím;\n",
        "o Hàm này trả về danh sách các số nguyên được sinh ngẫu nhiên ở trên.\n",
        "- Xây dựng hàm sap_xep_giam_dan(x), trong đó:\n",
        "o Tham số đầu vào x là một danh sách các số nguyên;\n",
        "o Hàm này trả về một danh sách các số nguyên được sắp xếp theo chiều giảm dần.\n",
        "- Xây dựng hàm sap_xep_tang_dan(x), trong đó:\n",
        "o Tham số đầu vào x là một danh sách các số nguyên;\n",
        "o Hàm này trả về một danh sách các số nguyên được sắp xếp theo chiều tăng dần.\n",
        "- Chương trình chính (__main__) gọi thực hiện các hàm trên và in kết quả ra màn hình."
      ]
    },
    {
      "cell_type": "code",
      "metadata": {
        "colab": {
          "base_uri": "https://localhost:8080/"
        },
        "id": "rtmMny8ga9ky",
        "outputId": "cb8462d6-a15d-4c7b-99b0-0bdbe258aaa4"
      },
      "source": [
        "import random\n",
        "def sinh_ngau_nhien_danh_sach_so_nguyen():\n",
        "  print(\"hay nhap so max input\")\n",
        "  b = int(input())\n",
        "  print(\"hay nhap so n \")\n",
        "  n = int(input())\n",
        "  for i in range(n):\n",
        "    lit.append(random.randint(0,b))\n",
        "  return(lit)\n",
        "def sap_xep_giam_dan(lit):\n",
        "  for i in range(len(lit)-1):\n",
        "    for j in range(i+1,len(lit)):\n",
        "      if int(lit[i]) < int(lit[j]):\n",
        "        m = lit[i]\n",
        "        lit[i] = lit[j]\n",
        "        lit[j] = m \n",
        "  return(lit)\n",
        "def sap_xep_tang_dan(lit): \n",
        "  for i in range(len(lit)-1):\n",
        "    for j in range(i+1,len(lit)):\n",
        "      if int(lit[i]) > int(lit[j]):\n",
        "        m = lit[i]\n",
        "        lit[i] = lit[j]\n",
        "        lit[j] = m \n",
        "if __name__ == \"__main__\":\n",
        "  lit = []\n",
        "  sinh_ngau_nhien_danh_sach_so_nguyen()\n",
        "  print(\"ban muon xep theo thu tu tang dan hay giam dan \")\n",
        "  c = input(\"chon so 1 de tang dan \")\n",
        "  if c == \"1\":\n",
        "    sap_xep_tang_dan(lit)\n",
        "  else:\n",
        "    sap_xep_giam_dan(lit)\n",
        "  print(lit)"
      ],
      "execution_count": 7,
      "outputs": [
        {
          "output_type": "stream",
          "name": "stdout",
          "text": [
            "hay nhap so max input\n",
            "20\n",
            "hay nhap so n \n",
            "14\n",
            "ban muon xep theo thu tu tang dan hay giam dan \n",
            "chon so 1 de tang dan 2\n",
            "[19, 18, 18, 16, 16, 16, 13, 10, 9, 8, 8, 5, 4, 0]\n"
          ]
        }
      ]
    }
  ]
}