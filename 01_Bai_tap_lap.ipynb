{
  "nbformat": 4,
  "nbformat_minor": 0,
  "metadata": {
    "colab": {
      "name": "01-Bai-tap-lap.ipynb",
      "provenance": [],
      "authorship_tag": "ABX9TyPdRQHSvYxkefHgGrXJJ0Wp",
      "include_colab_link": true
    },
    "kernelspec": {
      "name": "python3",
      "display_name": "Python 3"
    },
    "language_info": {
      "name": "python"
    }
  },
  "cells": [
    {
      "cell_type": "markdown",
      "metadata": {
        "id": "view-in-github",
        "colab_type": "text"
      },
      "source": [
        "<a href=\"https://colab.research.google.com/github/ndn96/my-home-work/blob/main/01_Bai_tap_lap.ipynb\" target=\"_parent\"><img src=\"https://colab.research.google.com/assets/colab-badge.svg\" alt=\"Open In Colab\"/></a>"
      ]
    },
    {
      "cell_type": "code",
      "metadata": {
        "colab": {
          "base_uri": "https://localhost:8080/"
        },
        "id": "wnboCYldCu2H",
        "outputId": "e2ed5a75-0a05-4b98-f64b-f31376637333"
      },
      "source": [
        "# 1. Viết chương trình tìm tất cả các số chia hết cho 7 nhưng không phải bội số của 5, nằm trong\n",
        "đoạn 10 và 200 (tính cả 10 và 200). Các số thu được sẽ được in ra màn hình.\n",
        "j1=[]\n",
        "dem1 = 0\n",
        "for i1 in range(10,200):\n",
        "    if(i1%7==0) and (i1%5!=0):\n",
        "        dem1+=1\n",
        "        # In ra số đó:\n",
        "        print(i1)\n",
        "print(f'Có tất cả {dem1} số thỏa mãn.')\n",
        "print(','.join(j1))\n"
      ],
      "execution_count": 1,
      "outputs": [
        {
          "output_type": "stream",
          "name": "stdout",
          "text": [
            "14\n",
            "21\n",
            "28\n",
            "42\n",
            "49\n",
            "56\n",
            "63\n",
            "77\n",
            "84\n",
            "91\n",
            "98\n",
            "112\n",
            "119\n",
            "126\n",
            "133\n",
            "147\n",
            "154\n",
            "161\n",
            "168\n",
            "182\n",
            "189\n",
            "196\n",
            "Có tất cả 22 số thỏa mãn.\n",
            "\n"
          ]
        }
      ]
    },
    {
      "cell_type": "code",
      "metadata": {
        "colab": {
          "base_uri": "https://localhost:8080/"
        },
        "id": "v6JZaEi3GFtW",
        "outputId": "0ff4ebe0-f73b-4041-cf30-8303a586b1bb"
      },
      "source": [
        "# 2. Viết một chương trình tính giai thừa của một số nguyên dương n. Với n được nhập từ bàn\n",
        "phím. Ví dụ, n = 8 thì kết quả đầu ra phải là 1*2*3*4*5*6*7*8 = 40320.\n",
        "n2 = int(input('Mời bạn nhập vào 1 số: '))\n",
        "def giaiThua(n):\n",
        "    if n == 0:\n",
        "        return 1\n",
        "    return n * giaiThua(n - 1)\n",
        "print(giaiThua(n2))"
      ],
      "execution_count": 2,
      "outputs": [
        {
          "output_type": "stream",
          "name": "stdout",
          "text": [
            "Mời bạn nhập vào 1 số: 10\n",
            "3628800\n"
          ]
        }
      ]
    },
    {
      "cell_type": "code",
      "metadata": {
        "colab": {
          "base_uri": "https://localhost:8080/"
        },
        "id": "ydGg5wmPGQAV",
        "outputId": "ebd699a3-8ffe-4831-86a5-c4e4c8c22c4e"
      },
      "source": [
        "# 3. Dãy số Fibonacci được định nghĩa như sau: F0 = 0, F1 = 1, F2 = 1, Fn = F(n-1) + F(n-2)\n",
        "# với n >= 2. Ví dụ: 0, 1, 1, 2, 3, 5, 8, ... Hãy viết chương trình tìm n số Fibonacci đầu tiên với n\n",
        "# nhập vào từ bàn phím.\n",
        "import math\n",
        "n3 = int(input('Mời bạn nhập vào 1 số: '))\n",
        "print(f'{n3} số đầu tiên của dãy số fibonacci: ');\n",
        "def fibonacci3(n):\n",
        "    if (n < 0):\n",
        "        return -1;\n",
        "    elif (n == 0 or n == 1):\n",
        "        return n;\n",
        "    else:\n",
        "        return fibonacci3(n - 1) + fibonacci3(n - 2);\n",
        "for i3 in range(0,n3):\n",
        "    print(fibonacci3(i3));\n"
      ],
      "execution_count": 6,
      "outputs": [
        {
          "output_type": "stream",
          "name": "stdout",
          "text": [
            "Mời bạn nhập vào 1 số: 20\n",
            "20 số đầu tiên của dãy số fibonacci: \n",
            "0\n",
            "1\n",
            "1\n",
            "2\n",
            "3\n",
            "5\n",
            "8\n",
            "13\n",
            "21\n",
            "34\n",
            "55\n",
            "89\n",
            "144\n",
            "233\n",
            "377\n",
            "610\n",
            "987\n",
            "1597\n",
            "2584\n",
            "4181\n"
          ]
        }
      ]
    },
    {
      "cell_type": "code",
      "metadata": {
        "colab": {
          "base_uri": "https://localhost:8080/"
        },
        "id": "hCM3SFY2G2rf",
        "outputId": "22460973-002f-4ea1-baab-60b62e3b4442"
      },
      "source": [
        "# 4. Viết chương trình liệt kê tất cả các số nguyên tố nhỏ hơn n. Số nguyên dương n được nhập\n",
        "# từ bàn phím.\n",
        "import math\n",
        "\n",
        "def isPrimeNumber4(n):\n",
        "    # so nguyen n < 2 khong phai la so nguyen to\n",
        "    if (n < 2):\n",
        "        return False;\n",
        "\n",
        "    # check so nguyen to khi n >= 2\n",
        "    squareRoot = int(math.sqrt(n));\n",
        "    for i in range(2, squareRoot + 1):\n",
        "        if (n % i == 0):\n",
        "            return False;\n",
        "    return True;\n",
        "\n",
        "\n",
        "n4 = int(input(\"Nhập số nguyên dương n = \"));\n",
        "print(\"Tất cả các số nguyên tố nhỏ hơn\", n4, \"là:\");\n",
        "sb4 = \"\";\n",
        "if (n4 >= 2):\n",
        "    sb4 = sb4 + \"2\" + \" \";\n",
        "for i4 in range(3, n4 + 1):\n",
        "    if (isPrimeNumber4(i4)):\n",
        "        sb4 = sb4 + str(i4) + \" \";\n",
        "    i4 = i4 + 2;\n",
        "print(sb4);"
      ],
      "execution_count": 7,
      "outputs": [
        {
          "output_type": "stream",
          "name": "stdout",
          "text": [
            "Nhập số nguyên dương n = 10\n",
            "Tất cả các số nguyên tố nhỏ hơn 10 là:\n",
            "2 3 5 7 \n"
          ]
        }
      ]
    },
    {
      "cell_type": "code",
      "metadata": {
        "colab": {
          "base_uri": "https://localhost:8080/"
        },
        "id": "6SFDFnfsG_cv",
        "outputId": "278775bb-2300-4ad3-9238-627f5c2270c7"
      },
      "source": [
        "# 5. Viết chương trình liệt kê n số nguyên tố đầu tiên. Số nguyên dương n được nhập từ bàn\n",
        "# phím.\n",
        "import math\n",
        "def isPrimeNumber5(n):\n",
        "    # so nguyen n < 2 khong phai la so nguyen to\n",
        "    if (n < 2):\n",
        "        return False;\n",
        "    # check so nguyen to khi n >= 2\n",
        "    squareRoot = int(math.sqrt(n));\n",
        "    for i in range(2, squareRoot + 1):\n",
        "        if (n % i == 0):\n",
        "            return False;\n",
        "    return True;\n",
        "\n",
        "\n",
        "n5 = int(input(\"Nhập số nguyên dương n = \"));\n",
        "print(n5, \"Số nguyên tố đầu tiên là:\");\n",
        "dem5 = 0;  # đếm số số nguyên tố\n",
        "i5 = 2;  # tìm số nguyên tố bắt dầu từ số 2\n",
        "sb5 = \"\";\n",
        "while (dem5 < n5):\n",
        "    if (isPrimeNumber5(i5)):\n",
        "        sb5 = sb5 + str(i5) + \" \";\n",
        "        dem5 = dem5 + 1;\n",
        "    i5 = i5 + 1;\n",
        "print(sb5);"
      ],
      "execution_count": 8,
      "outputs": [
        {
          "output_type": "stream",
          "name": "stdout",
          "text": [
            "Nhập số nguyên dương n = 10\n",
            "10 Số nguyên tố đầu tiên là:\n",
            "2 3 5 7 11 13 17 19 23 29 \n"
          ]
        }
      ]
    },
    {
      "cell_type": "code",
      "metadata": {
        "colab": {
          "base_uri": "https://localhost:8080/"
        },
        "id": "SHpJ0_qRHHfw",
        "outputId": "175846f2-d5b6-467c-ead9-cfb6a9c0dd3d"
      },
      "source": [
        "# 6. Viết chương trình liệt kê tất cả số nguyên tố có 5 chữ số.\n",
        "import math\n",
        "def isPrimeNumber6(n):\n",
        "    # so nguyen n < 2 khong phai la so nguyen to\n",
        "    if (n < 2):\n",
        "        return False;\n",
        "\n",
        "    # check so nguyen to khi n >= 2\n",
        "    squareRoot = int(math.sqrt(n));\n",
        "    for i in range(2, squareRoot + 1):\n",
        "        if (n % i == 0):\n",
        "            return False;\n",
        "    return True;\n",
        "\n",
        "\n",
        "print(\"Liệt kê tất cả số nguyên tố có 5 chữ số:\");\n",
        "dem6 = 0;\n",
        "for i6 in range(10001, 99999):\n",
        "    if (isPrimeNumber6(i6)):\n",
        "        #print(i);\n",
        "        dem6 = dem6 + 1;\n",
        "print(\"Tổng các số nguyên tố có 5 chữ số là:\", dem6);"
      ],
      "execution_count": 9,
      "outputs": [
        {
          "output_type": "stream",
          "name": "stdout",
          "text": [
            "Liệt kê tất cả số nguyên tố có 5 chữ số:\n",
            "Tổng các số nguyên tố có 5 chữ số là: 8363\n"
          ]
        }
      ]
    },
    {
      "cell_type": "code",
      "metadata": {
        "colab": {
          "base_uri": "https://localhost:8080/"
        },
        "id": "WF5GPuf2HQed",
        "outputId": "d5174e9d-8424-470a-d413-2184f8b37ebe"
      },
      "source": [
        "# 7. Viết chương trình tính tổng của các chữ số của môt số nguyên n. Số nguyên dương n được\n",
        "# nhập từ bàn phím. Ví dụ: n = 1234, tổng các chữ số: 1 + 2 + 3 + 4 = 10\n",
        "def totalDigitsOfNumber7(n):\n",
        "    total = 0;\n",
        "    while (n > 0):\n",
        "        total = total + n % 10;\n",
        "        n = int(n / 10);\n",
        "    return total;\n",
        "\n",
        "\n",
        "n7 = int(input(\"Nhập số nguyên dương n = \"));\n",
        "stringOutput = \"\"\n",
        "dem7 = 0\n",
        "for i7 in str(n7):\n",
        "    dem7+=1\n",
        "    print(dem7)\n",
        "    if dem7 >= 1 and dem7 < len(str(n7)):\n",
        "        stringOutput += i7 + \"+\"\n",
        "    else:\n",
        "        stringOutput += i7\n",
        "print(\"Tổng các chữ số của\", stringOutput, \"là\", totalDigitsOfNumber7(n7));"
      ],
      "execution_count": 11,
      "outputs": [
        {
          "output_type": "stream",
          "name": "stdout",
          "text": [
            "Nhập số nguyên dương n = 12345\n",
            "1\n",
            "2\n",
            "3\n",
            "4\n",
            "5\n",
            "Tổng các chữ số của 1+2+3+4+5 là 15\n"
          ]
        }
      ]
    },
    {
      "cell_type": "code",
      "metadata": {
        "colab": {
          "base_uri": "https://localhost:8080/"
        },
        "id": "BQQFmXIAHXDm",
        "outputId": "34156c7e-0f99-4f88-c27d-89f7287b8e89"
      },
      "source": [
        "# 8. Viết chương trình liệt kê các số Fibonacci nhỏ hơn n là số nguyên tố. N là số nguyên dương\n",
        "# được nhập từ bàn phím.\n",
        "import math\n",
        "def fibonacci8(n):\n",
        "    if (n < 0):\n",
        "        return -1;\n",
        "    elif (n == 0 or n == 1):\n",
        "        return n;\n",
        "    else:\n",
        "        return fibonacci8(n - 1) + fibonacci8(n - 2);\n",
        "\n",
        "\n",
        "def isPrimeNumber8(n):\n",
        "    # so nguyen n < 2 khong phai la so nguyen to\n",
        "    if (n < 2):\n",
        "        return False;\n",
        "\n",
        "    # check so nguyen to khi n >= 2\n",
        "    squareRoot = int(math.sqrt(n));\n",
        "    for i in range(2, squareRoot + 1):\n",
        "        if (n % i == 0):\n",
        "            return False;\n",
        "    return True;\n",
        "n8 = int(input(\"Nhập số nguyên dương n = \"));\n",
        "print (\"Tất cả các số fibonacci nhỏ hơn\", n8, \"và nguyên tố:\");\n",
        "i8 = 0;\n",
        "fin8 = fibonacci8(i8);\n",
        "while(fin8 < n8):\n",
        "    fin8 = fibonacci8(i8);\n",
        "    if (isPrimeNumber8(fin8)):\n",
        "        print(fin8)\n",
        "    i8 = i8 + 1;"
      ],
      "execution_count": 12,
      "outputs": [
        {
          "output_type": "stream",
          "name": "stdout",
          "text": [
            "Nhập số nguyên dương n = 10\n",
            "Tất cả các số fibonacci nhỏ hơn 10 và nguyên tố:\n",
            "2\n",
            "3\n",
            "5\n",
            "13\n"
          ]
        }
      ]
    }
  ]
}