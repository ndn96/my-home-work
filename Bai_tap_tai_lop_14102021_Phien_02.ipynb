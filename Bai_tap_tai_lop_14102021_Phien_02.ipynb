{
  "nbformat": 4,
  "nbformat_minor": 0,
  "metadata": {
    "colab": {
      "name": "Bai-tap-tai-lop-14102021-Phien-02.ipynb",
      "provenance": [],
      "collapsed_sections": [],
      "authorship_tag": "ABX9TyPKBndFugkyqDw46Kr8m8S+",
      "include_colab_link": true
    },
    "kernelspec": {
      "name": "python3",
      "display_name": "Python 3"
    },
    "language_info": {
      "name": "python"
    }
  },
  "cells": [
    {
      "cell_type": "markdown",
      "metadata": {
        "id": "view-in-github",
        "colab_type": "text"
      },
      "source": [
        "<a href=\"https://colab.research.google.com/github/ndn96/my-home-work/blob/main/Bai_tap_tai_lop_14102021_Phien_02.ipynb\" target=\"_parent\"><img src=\"https://colab.research.google.com/assets/colab-badge.svg\" alt=\"Open In Colab\"/></a>"
      ]
    },
    {
      "cell_type": "code",
      "metadata": {
        "colab": {
          "base_uri": "https://localhost:8080/"
        },
        "id": "F6Ugxw96pVNH",
        "outputId": "4b21dfea-bfa0-4ae6-b04e-4009b6914d21"
      },
      "source": [
        "# 1. Write a Python program to find the number of days in a month.\n",
        "# Viết 1 chương trình tìm kiếm số ngày của 1 tháng:\n",
        "# Test Data\n",
        "# Input a month number: 2\n",
        "# Input a year: 2016\n",
        "# Expected Output :\n",
        "# February 2016 has 29 days\n",
        "_month = int(input(\"Mời bạn nhập vào 1 tháng trong năm: \"))\n",
        "_year = int(input(\"Mời bạn nhập vào số năm: \"))\n",
        "# B1: Viết hàm check năm nhuận:\n",
        "def isLeapYear1(year):\n",
        "    return (((year % 4 == 0) and (year % 100 != 0)) or (year % 400 == 0))\n",
        "# B2: Viết hàm check số ngày trong tháng:\n",
        "def monthLong(_year, _month):\n",
        "    if(_year == 0 or _month < 1 or _month > 12):\n",
        "        print(\"Giá trị nhập vào bị lỗi,vui lòng nhập lại.\")\n",
        "        return False\n",
        "    if(_month in [1,3,5,7,8,10,12]):\n",
        "        return 31\n",
        "    if(_month in [4,6,9,11]):\n",
        "        return 30\n",
        "    if(_month == 2 and isLeapYear1(_year)):\n",
        "        return 29\n",
        "    if(_month == 2 and not isLeapYear1(_year)):\n",
        "        return 28\n",
        "# In ra kết quả:\n",
        "print(f'The {_month} month of {_year} year has {monthLong(_year,_month)} days')"
      ],
      "execution_count": 1,
      "outputs": [
        {
          "output_type": "stream",
          "name": "stdout",
          "text": [
            "Mời bạn nhập vào 1 tháng trong năm: 2\n",
            "Mời bạn nhập vào số năm: 2016\n",
            "The 2 month of 2016 year has 29 days\n"
          ]
        }
      ]
    },
    {
      "cell_type": "code",
      "metadata": {
        "colab": {
          "base_uri": "https://localhost:8080/"
        },
        "id": "HqgPJB8Upd5G",
        "outputId": "1a81a37d-244e-47cf-bbe8-39f145804810"
      },
      "source": [
        "# 2. Write a Python program that takes the user to provide a single character from the alphabet. Print\n",
        "# Vowel or Consonant, depending on the user input. If the user input is not a letter (between a and z\n",
        "# or A and Z), or is a string of length > 1, print an error message.\n",
        "# Test Data\n",
        "# Input an alphabet: p\n",
        "# Expected Output :\n",
        "# Input letter is Consonant\n",
        "# Sử dụng Biểu thức chính quy (Regular Expression) bằng việc Import thư viện \"re\"\n",
        "import re\n",
        "n2 = input('Mời bạn nhập vào 1 ký tự: ')\n",
        "# B1: Function conditional2 Check tính hợp lệ của số nhập vào từ bàn phím:\n",
        "def conditional2(_inputString):\n",
        "    # Kiểm tra nếu chuỗi có chứa kí tự [a-zA-Z]\n",
        "    if(re.search(\"[a-zA-Z]\",_inputString) and len(n2) == 1):\n",
        "        return True\n",
        "    else:\n",
        "        return False\n",
        "# Kiểm tra hàm conditional2:\n",
        "# print(conditional2(n2))\n",
        "# B2: Tạo function checkVoCo kiểm tra xem là nguyên âm(Vowel) hay phụ âm (Consonant)\n",
        "def checkVoCo(_inputString):\n",
        "    # Kiểm tra tính hợp lệ của chuỗi đầu vào:\n",
        "    if(not conditional2(_inputString)):\n",
        "        print(f'Giá trị {_inputString} nhập vào không thỏa mãn yêu cầu.')\n",
        "        return False\n",
        "    _vowelList = [\"a\",\"e\",\"i\",\"o\",\"u\"]\n",
        "    if(_inputString.lower() in _vowelList):\n",
        "        print('Đó là 1 nguyên âm.')\n",
        "    else:\n",
        "        print('Đó là 1 phụ âm.')\n",
        "checkVoCo(n2)"
      ],
      "execution_count": 2,
      "outputs": [
        {
          "output_type": "stream",
          "name": "stdout",
          "text": [
            "Mời bạn nhập vào 1 ký tự: p\n",
            "Đó là 1 phụ âm.\n"
          ]
        }
      ]
    },
    {
      "cell_type": "code",
      "metadata": {
        "colab": {
          "base_uri": "https://localhost:8080/"
        },
        "id": "AZ4AR-ZFpjqd",
        "outputId": "ce5412ba-1c37-42b3-b9a2-3e6690a90fa4"
      },
      "source": [
        "# 3. Write a Python program that takes a year from user and print whether that year is a leap year or\n",
        "# not\n",
        "# Test Data\n",
        "# Input the year: 2016\n",
        "# Expected Output :\n",
        "# 2016 is a leap year\n",
        "year3 = int(input(\"Mời bạn nhập vào 1 năm: \"))\n",
        "def isLeapYear(year):\n",
        "    return (((year % 4 == 0) and (year % 100 != 0)) or (year % 400 == 0))\n",
        "if(isLeapYear(year3)):\n",
        "    print(f'{year3} is a leap year.')\n",
        "else:\n",
        "    print(f'{year3} is not a leap year')"
      ],
      "execution_count": 3,
      "outputs": [
        {
          "output_type": "stream",
          "name": "stdout",
          "text": [
            "Mời bạn nhập vào 1 năm: 2016\n",
            "2016 is a leap year.\n"
          ]
        }
      ]
    },
    {
      "cell_type": "code",
      "metadata": {
        "colab": {
          "base_uri": "https://localhost:8080/"
        },
        "id": "tkzAACZPpof9",
        "outputId": "d4dbe538-fafd-4565-c5ee-241ebe8db6b0"
      },
      "source": [
        "# 4. Write a program in Python to input 5 numbers from keyboard and find their sum and average.\n",
        "n51, n52, n53, n54, n55 = input(\"Nhập vào 5 số tách nhau bởi dấu space: \\n\").split()# Đây là 1 list\n",
        "# x = input(\"Nhập vào 5 số tách nhau bởi dấu space: \\n\").split()\n",
        "def compute5(*numbers):\n",
        "    # numbers là 1 dạng list.\n",
        "    # Tính tổng\n",
        "    _total = 0\n",
        "    for value in numbers:\n",
        "        _total += float(value)\n",
        "    # Tính trung bình các giá trị:\n",
        "    _average = _total / len(numbers)\n",
        "    # Trả về 1 list để destructoring:\n",
        "    return [_total, _average]\n",
        "_total, _avg = compute5(n51, n52, n53, n54, n55)\n",
        "print(f'Tổng các số đã nhập là: {_total}')\n",
        "print(f'Trung bình các số đã nhập là: {_avg}')\n"
      ],
      "execution_count": 4,
      "outputs": [
        {
          "output_type": "stream",
          "name": "stdout",
          "text": [
            "Nhập vào 5 số tách nhau bởi dấu space: \n",
            "1 2 3 4 5\n",
            "Tổng các số đã nhập là: 15.0\n",
            "Trung bình các số đã nhập là: 3.0\n"
          ]
        }
      ]
    }
  ]
}