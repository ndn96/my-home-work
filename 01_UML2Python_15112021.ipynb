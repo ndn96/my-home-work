{
  "nbformat": 4,
  "nbformat_minor": 0,
  "metadata": {
    "colab": {
      "name": "01-UML2Python-15112021.ipynb",
      "provenance": [],
      "authorship_tag": "ABX9TyMDFQ5O2nceHrzFln28v0HW",
      "include_colab_link": true
    },
    "kernelspec": {
      "name": "python3",
      "display_name": "Python 3"
    },
    "language_info": {
      "name": "python"
    }
  },
  "cells": [
    {
      "cell_type": "markdown",
      "metadata": {
        "id": "view-in-github",
        "colab_type": "text"
      },
      "source": [
        "<a href=\"https://colab.research.google.com/github/ndn96/my-home-work/blob/main/01_UML2Python_15112021.ipynb\" target=\"_parent\"><img src=\"https://colab.research.google.com/assets/colab-badge.svg\" alt=\"Open In Colab\"/></a>"
      ]
    },
    {
      "cell_type": "code",
      "metadata": {
        "id": "CXZQ-JC5Ogp6"
      },
      "source": [
        "class Item:\n",
        "  def __init__(self, shippingWeight, description):\n",
        "    self.shippingWeight = shippingWeight\n",
        "    self.description = description\n",
        "  def getPriceForQuantity(self):\n",
        "    pass\n",
        "  def getTax(self):\n",
        "    pass\n",
        "  def inStock(self):\n",
        "    pass\n",
        "\n",
        "class OrderDetails(Item):\n",
        "  def __init__(self,shippingWeight, description,quantity, taxStatus):\n",
        "    super().__init__(shippingWeight, description)\n",
        "    self.quantity = quantity\n",
        "    self.taxStatus = taxStatus\n",
        "  def calcSubTotal(self):\n",
        "    pass\n",
        "  def calcWeight(self):\n",
        "    pass\n",
        "  def calcTax(self):\n",
        "    pass\n",
        "class Order(OrderDetails):\n",
        "  def __init__(self, date, status):\n",
        "    super().__init__()\n",
        "    self.date = date\n",
        "    self.status = status\n",
        "  def calcSubTotal():\n",
        "    pass\n",
        "  def calcTax():\n",
        "    pass\n",
        "  def calcTotal():\n",
        "    pass\n",
        "  def calcTotalWeight():\n",
        "    pass\n",
        "\n",
        "class Customer:\n",
        "  def __init__(self, name, address):\n",
        "    self.name = name\n",
        "    self.address = address\n",
        "\n",
        "class Payment:\n",
        "  def __init__(self, amount):\n",
        "    self.amount = amount\n",
        "  def pass\n",
        "\n",
        "class Cash(Payment):\n",
        "  def __init__(self, amount, cashTendered):\n",
        "    super().__init__(amount)\n",
        "    self.cashTendered = cashTendered\n",
        "\n",
        "\n",
        "class Check(Payment):\n",
        "  def __init__(self, amount, name, bankId):\n",
        "    super().__init__(amount)\n",
        "    self.name = name\n",
        "    self.bankId = bankId\n",
        "  def authorize(self):\n",
        "    pass\n",
        "  def payMoney(self):\n",
        "    pass\n",
        "\n",
        "class Credit(Payment):\n",
        "  def __init__(self, amount, number, type, expDate):\n",
        "    super().__init__(amount)\n",
        "    self.number = number\n",
        "    self.type = type\n",
        "    self.expDate = expDate\n",
        "  def authorize(self):\n",
        "    pass\n",
        "  def payMoney(self):\n",
        "    pass  "
      ],
      "execution_count": null,
      "outputs": []
    }
  ]
}