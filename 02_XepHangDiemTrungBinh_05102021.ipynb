{
  "nbformat": 4,
  "nbformat_minor": 0,
  "metadata": {
    "colab": {
      "name": "02-XepHangDiemTrungBinh-05102021.ipynb",
      "provenance": [],
      "authorship_tag": "ABX9TyNjjvsjWe6vcbpxBDZDcjjo",
      "include_colab_link": true
    },
    "kernelspec": {
      "name": "python3",
      "display_name": "Python 3"
    },
    "language_info": {
      "name": "python"
    }
  },
  "cells": [
    {
      "cell_type": "markdown",
      "metadata": {
        "id": "view-in-github",
        "colab_type": "text"
      },
      "source": [
        "<a href=\"https://colab.research.google.com/github/ndn96/my-home-work/blob/main/02_XepHangDiemTrungBinh_05102021.ipynb\" target=\"_parent\"><img src=\"https://colab.research.google.com/assets/colab-badge.svg\" alt=\"Open In Colab\"/></a>"
      ]
    },
    {
      "cell_type": "code",
      "metadata": {
        "colab": {
          "base_uri": "https://localhost:8080/"
        },
        "id": "SZjxWV_27iWx",
        "outputId": "65779c59-0eb0-449a-cea5-ee57bc0261c3"
      },
      "source": [
        "dtb = float(input('Mời bạn nhập vào điểm trung bình: '))\n",
        "xepLoai = \"Chưa có kết quả\"\n",
        "if dtb >= 9:\n",
        "  xepLoai = 'Xuất sắc'\n",
        "if dtb >=8 and dtb < 9:\n",
        "  xepLoai = \"Giỏi\"\n",
        "if dtb >= 7 and dtb < 8:\n",
        "  xepLoai = \"Khá\"\n",
        "if dtb >= 5 and dtb < 7:\n",
        "  xepLoai = \"Trung bình\"\n",
        "if dtb < 5:\n",
        "  xepLoai = \"Yếu\"\n",
        "print(f\"Xếp loại của điểm này là: {xepLoai}\")"
      ],
      "execution_count": 1,
      "outputs": [
        {
          "output_type": "stream",
          "name": "stdout",
          "text": [
            "Mời bạn nhập vào điểm trung bình: 6\n",
            "Xếp loại của điểm này là: Trung bình\n"
          ]
        }
      ]
    },
    {
      "cell_type": "markdown",
      "metadata": {
        "id": "vf-3-B7J72n9"
      },
      "source": [
        ""
      ]
    }
  ]
}