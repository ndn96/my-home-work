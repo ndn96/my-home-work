{
  "nbformat": 4,
  "nbformat_minor": 0,
  "metadata": {
    "colab": {
      "name": "01-Bai-tap-tren-lop-30092021.ipynb",
      "provenance": [],
      "collapsed_sections": [],
      "authorship_tag": "ABX9TyNV42I7s7PhVVjSBQvDgslk",
      "include_colab_link": true
    },
    "kernelspec": {
      "name": "python3",
      "display_name": "Python 3"
    },
    "language_info": {
      "name": "python"
    }
  },
  "cells": [
    {
      "cell_type": "markdown",
      "metadata": {
        "id": "view-in-github",
        "colab_type": "text"
      },
      "source": [
        "<a href=\"https://colab.research.google.com/github/ndn96/my-home-work/blob/main/01_Bai_tap_tren_lop_30092021.ipynb\" target=\"_parent\"><img src=\"https://colab.research.google.com/assets/colab-badge.svg\" alt=\"Open In Colab\"/></a>"
      ]
    },
    {
      "cell_type": "code",
      "metadata": {
        "colab": {
          "base_uri": "https://localhost:8080/"
        },
        "id": "E7NxbDmjW9Dw",
        "outputId": "4841f24f-40cd-459a-8d6e-81ec8ee8d8ce"
      },
      "source": [
        "# 1. Write a Python program to sum all the items in a list. (sum() function)\n",
        "numbers = [1, 2, 3, 4, 5, 1, 4, 5]\n",
        "Sum = sum(numbers)\n",
        "print(f'Sum all the items in a list {Sum}')\n",
        "# 2. Write a Python program to multiply all the items in a list. (math.prod() function)\n",
        "# Importing math module\n",
        "import math\n",
        "from functools import reduce\n",
        "import operator\n",
        "# list\n",
        "arr = [1, 2, 3, 4, 5]\n",
        "product = reduce(operator.mul, arr, 1)\n",
        "print(f'Multiply all the items from arr = [1, 2, 3, 4, 5]:. {product}')\n",
        "# 3. Write a Python program to get the largest number from a list. (max() function)\n",
        "print(f'The largest number from arr = [1, 2, 3, 4, 5]: {max(arr)}')\n",
        "# 4. Write a Python program to get the smallest number from a list. (min() function)\n",
        "print(f'The smallest number from arr = [1, 2, 3, 4, 5]: {min(arr)}')\n",
        "# 5. Write a Python program to sort a list in descending order (sort() function)\n",
        "numbers1 = [1, 3, 4, 2]\n",
        "# Sorting list of Integers in descending\n",
        "numbers1.sort(reverse=True)\n",
        "print(f'Sorting numbers1 of Integers in descending: {numbers1}')\n",
        "# 6. Write a Python program to sort a list in ascending order (sort() function)\n",
        "numbers2 = [1, 3, 4, 2]\n",
        "# Sorting list of Integers in ascending\n",
        "numbers2.sort()\n",
        "print(f'Sorting numbers2 of Integers in ascending: {numbers2}')\n",
        "# 7. Write a Python program to get the size of a list (len() function)\n",
        "print(f'Get the size of a numbers2: {len(numbers2)}')\n",
        "# 8. Write a Python program to get random element(s) of a list (random.choice() function)\n",
        "import random\n",
        "number_list = [111, 222, 333, 444, 555]\n",
        "# random item from list\n",
        "print(f'Get random element(s) of a number_list: {random.choices(number_list, k = 3)}')\n",
        "# Output [222, 333, 222]\n",
        "# 9. Write a Python program to join two different lists into one (use + or extend() function)\n",
        "# Initializing lists\n",
        "test_list3 = [1, 4, 5, 6, 5]\n",
        "test_list4 = [3, 5, 7, 2, \"Love VietNam\"]\n",
        "\n",
        "# using list.extend() to concat\n",
        "test_list3.extend(test_list4)\n",
        "\n",
        "# Printing concatenated list\n",
        "print(\"Concatenated list using list.extend() : \"\n",
        "      + str(test_list3))"
      ],
      "execution_count": 4,
      "outputs": [
        {
          "output_type": "stream",
          "name": "stdout",
          "text": [
            "Sum all the items in a list 25\n",
            "Multiply all the items from arr = [1, 2, 3, 4, 5]:. 120\n",
            "The largest number from arr = [1, 2, 3, 4, 5]: 5\n",
            "The smallest number from arr = [1, 2, 3, 4, 5]: 1\n",
            "Sorting numbers1 of Integers in descending: [4, 3, 2, 1]\n",
            "Sorting numbers2 of Integers in ascending: [1, 2, 3, 4]\n",
            "Get the size of a numbers2: 4\n",
            "Get random element(s) of a number_list: [222, 333, 222]\n",
            "Concatenated list using list.extend() : [1, 4, 5, 6, 5, 3, 5, 7, 2, 'Love VietNam']\n"
          ]
        }
      ]
    }
  ]
}