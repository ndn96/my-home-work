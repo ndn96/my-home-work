{
  "nbformat": 4,
  "nbformat_minor": 0,
  "metadata": {
    "colab": {
      "name": "01-Bai-tap-tim-kiem-15112021.ipynb",
      "provenance": [],
      "include_colab_link": true
    },
    "kernelspec": {
      "name": "python3",
      "display_name": "Python 3"
    },
    "language_info": {
      "name": "python"
    }
  },
  "cells": [
    {
      "cell_type": "markdown",
      "metadata": {
        "id": "view-in-github",
        "colab_type": "text"
      },
      "source": [
        "<a href=\"https://colab.research.google.com/github/ndn96/my-home-work/blob/main/01_Bai_tap_tim_kiem_15112021.ipynb\" target=\"_parent\"><img src=\"https://colab.research.google.com/assets/colab-badge.svg\" alt=\"Open In Colab\"/></a>"
      ]
    },
    {
      "cell_type": "markdown",
      "metadata": {
        "id": "4wsqLrIr-bZ8"
      },
      "source": [
        "Bài 1: Viết chương trình thực hiện các yêu cầu sau:\n",
        "- Sinh ngẫu nhiên 1 danh sách n số nguyên trong đoạn [a, b], với các thông số n, a và b được\n",
        "nhập vào từ bàn phím;\n",
        "- Nhập vào 1 số x từ bàn phím có giá trị trong đoạn [a, b];\n",
        "- Tìm kiếm x có xuất hiện trong danh sách trên hay không. Nếu có thì trả về vị trí xuất hiện\n",
        "đầu tiên trong danh sách. Ngược lại, thông báo không tìm thấy."
      ]
    },
    {
      "cell_type": "code",
      "metadata": {
        "colab": {
          "base_uri": "https://localhost:8080/"
        },
        "id": "YN8sZtT37RHr",
        "outputId": "307cc320-582e-4c47-f2fa-c833446bb1af"
      },
      "source": [
        "import random\n",
        "li = []\n",
        "print(\"Mời nhập số  a\")\n",
        "a = int(input())\n",
        "print(\"Mời nhập số  b\")\n",
        "b = int(input())\n",
        "n = random.randint(1,b)\n",
        "for i in range(n-1):\n",
        "  li.append(random.randint(a,b))\n",
        "print(\"Mời nhập số cần tìm\")\n",
        "c = int(input())\n",
        "e = 0\n",
        "for i in range(len(li)):\n",
        "  if c == li[i]:\n",
        "    e = e + 1\n",
        "    print(\"Vị trí số\", i)\n",
        "    break\n",
        "  if e == 0:\n",
        "    print(\"Không có\")\n",
        "    break\n"
      ],
      "execution_count": 1,
      "outputs": [
        {
          "output_type": "stream",
          "name": "stdout",
          "text": [
            "Mời nhập số  a\n",
            "1\n",
            "Mời nhập số  b\n",
            "9\n",
            "Mời nhập số cần tìm\n",
            "5\n",
            "Không có\n"
          ]
        }
      ]
    },
    {
      "cell_type": "markdown",
      "metadata": {
        "id": "h5aQPl2m-aH2"
      },
      "source": [
        "Bài 2: Viết chương trình thực hiện các yêu cầu sau:\n",
        "- Sinh ngẫu nhiên 1 danh sách n số nguyên trong đoạn [a, b], với các thông số n, a và b được\n",
        "nhập vào từ bàn phím;\n",
        "- Nhập vào 1 số x từ bàn phím có giá trị trong đoạn [a, b];\n",
        "- Tìm kiếm x có xuất hiện trong danh sách trên hay không theo yêu cầu sau:\n",
        "o Nếu có thì trả về vị trí xuất hiện đầu tiên trong danh sách và thông báo số bước lặp\n",
        "đã thực hiện để tìm được phần tử này.\n",
        "o Ngược lại, thông báo không tìm thấy."
      ]
    },
    {
      "cell_type": "code",
      "metadata": {
        "id": "b9XzscTj-OYl",
        "colab": {
          "base_uri": "https://localhost:8080/"
        },
        "outputId": "e971c935-8a9b-456d-eb58-d11417b8a29d"
      },
      "source": [
        "import random\n",
        "li = []\n",
        "print(\"Mời nhập số  a\")\n",
        "a = int(input())\n",
        "print(\"Mời nhập số  b\")\n",
        "b = int(input())\n",
        "n = random.randint(1,b)\n",
        "for i in range(n-1):\n",
        "  li.append(random.randint(a,b))\n",
        "print(\"Mời nhập số cần tìm\")\n",
        "c = int(input())\n",
        "e = 0\n",
        "for i in range(len(li)):\n",
        "  if c == li[i]:\n",
        "    e = e + 1\n",
        "    print(\"Vị trí số: \", i)\n",
        "    print(\"Số lần lặp: \", i)\n",
        "    break\n",
        "  if e == 0:\n",
        "    print(\"Không có số nào\")\n",
        "    break"
      ],
      "execution_count": 2,
      "outputs": [
        {
          "output_type": "stream",
          "name": "stdout",
          "text": [
            "Mời nhập số  a\n",
            "1\n",
            "Mời nhập số  b\n",
            "9\n",
            "Mời nhập số cần tìm\n",
            "5\n",
            "Không có số nào\n"
          ]
        }
      ]
    },
    {
      "cell_type": "markdown",
      "metadata": {
        "id": "p1Zn3VvW-waH"
      },
      "source": [
        "Bài 3: Viết chương trình thực hiện các yêu cầu sau:\n",
        "- Bước 1: Sinh ngẫu nhiên 1 danh sách n số nguyên trong đoạn [a, b], với các thông số n, a\n",
        "và b được nhập vào từ bàn phím;\n",
        "- Bước 2: Nhập vào 1 số x từ bàn phím có giá trị trong đoạn [a, b];\n",
        "- Bước 3: Sắp xếp danh sách trên theo chiều tăng dần\n",
        "- Bước 4: Tìm kiếm x có xuất hiện trong danh sách trên hay không theo yêu cầu sau:\n",
        "- Nếu có thì trả về vị trí xuất hiện đầu tiên trong danh sách và thông báo số bước lặp\n",
        "đã thực hiện để tìm được phần tử này.\n",
        "- Ngược lại, thông báo không tìm thấy."
      ]
    },
    {
      "cell_type": "code",
      "metadata": {
        "colab": {
          "base_uri": "https://localhost:8080/"
        },
        "id": "kBuNbpB2-xBF",
        "outputId": "41ce879d-3d5c-4d41-e407-74370a58dc07"
      },
      "source": [
        "import random\n",
        "li = []\n",
        "print(\"Mời nhập số  a\")\n",
        "a = int(input())\n",
        "print(\"Mời nhập số  b\")\n",
        "b = int(input())\n",
        "n = random.randint(1,b)\n",
        "for i in range(n-1):\n",
        "  li.append(random.randint(a,b))\n",
        "print(li)\n",
        "print(\"Mời nhập số  cần tìm\")\n",
        "c = int(input())\n",
        "li.sort(reverse=False, key = lambda value: float(value))\n",
        "print(li)\n",
        "for i in range(len(li)):\n",
        "  if c == li[i]:\n",
        "    print('Có tìm thấy')\n",
        "    count = 0\n",
        "    for idx in li:\n",
        "      if(idx == c):\n",
        "        count+=1\n",
        "    print(\"Số lần lặp: \",count)"
      ],
      "execution_count": 9,
      "outputs": [
        {
          "output_type": "stream",
          "name": "stdout",
          "text": [
            "Mời nhập số  a\n",
            "1\n",
            "Mời nhập số  b\n",
            "40\n",
            "[4, 19, 30, 10, 5, 23, 30]\n",
            "Mời nhập số  cần tìm\n",
            "5\n",
            "[4, 5, 10, 19, 23, 30, 30]\n",
            "Có tìm thấy\n",
            "Số lần lặp:  1\n",
            "Không tìm thấy\n"
          ]
        }
      ]
    },
    {
      "cell_type": "markdown",
      "metadata": {
        "id": "gyi3tGAUGndu"
      },
      "source": [
        "Bài 4: Viết chương trình thực hiện các yêu cầu sau:\n",
        "- Bước 1: Sinh ngẫu nhiên 1 danh sách n số nguyên trong đoạn [a, b], với các thông số n, a\n",
        "và b được nhập vào từ bàn phím;\n",
        "- Bước 2: Nhập vào 1 số x từ bàn phím có giá trị trong đoạn [a, b];\n",
        "\n",
        "- Bước 3: Sắp xếp danh sách trên theo chiều tăng dần\n",
        "- Bước 4: Tìm kiếm x có xuất hiện trong danh sách trên hay không theo yêu cầu sau:\n",
        "- Nếu có thì trả về tất cả các vị trí xuất hiện trong danh sách và thông báo số bước\n",
        "lặp đã thực hiện để tìm được các phần tử này.\n",
        "- Ngược lại, thông báo không tìm thấy."
      ]
    },
    {
      "cell_type": "code",
      "metadata": {
        "id": "dzpNBSMRGoP1",
        "colab": {
          "base_uri": "https://localhost:8080/"
        },
        "outputId": "f611c370-b556-4f58-a2ca-24ba58172e2f"
      },
      "source": [
        "import random\n",
        "li = []\n",
        "print(\"Mời nhập số  a\")\n",
        "a = int(input())\n",
        "print(\"Mời nhập số  b\")\n",
        "b = int(input())\n",
        "n = random.randint(1,b)\n",
        "for i in range(n-1):\n",
        "  li.append(random.randint(a,b))\n",
        "print(\"Mời nhập số cần tìm\")\n",
        "c = int(input())\n",
        "li.sort(reverse=False, key = lambda value: float(value))\n",
        "print(li)\n",
        "for i in range(len(li)):\n",
        "  if c == li[i]:\n",
        "    print('Có tìm thấy')\n",
        "    count = 0\n",
        "    for idx in li:\n",
        "      if(idx == c):\n",
        "        count+=1\n",
        "    print(\"Số lần lặp: \",count)\n",
        "else:\n",
        "  print('Không tìm thấy')"
      ],
      "execution_count": 5,
      "outputs": [
        {
          "output_type": "stream",
          "name": "stdout",
          "text": [
            "Mời nhập số  a\n",
            "1\n",
            "Mời nhập số  b\n",
            "40\n",
            "Mời nhập số cần tìm\n",
            "4\n",
            "[11, 9, 27, 38, 5, 15, 20, 2, 34, 18, 38, 12, 14, 38, 3, 2, 39, 40, 34, 1, 23, 24, 9, 13, 37, 3]\n",
            "[3, 9, 1, 13, 37, 2, 24, 23, 3, 2, 34, 5, 14, 12, 18, 9, 34, 20, 15, 11, 27, 38, 38, 38, 39, 40]\n",
            "Không có\n"
          ]
        }
      ]
    }
  ]
}