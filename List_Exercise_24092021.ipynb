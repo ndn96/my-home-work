{
  "nbformat": 4,
  "nbformat_minor": 0,
  "metadata": {
    "colab": {
      "name": "List-Exercise-24092021.ipynb",
      "provenance": [],
      "authorship_tag": "ABX9TyPOEThkZSjCcTsItCH5ovyr",
      "include_colab_link": true
    },
    "kernelspec": {
      "name": "python3",
      "display_name": "Python 3"
    },
    "language_info": {
      "name": "python"
    }
  },
  "cells": [
    {
      "cell_type": "markdown",
      "metadata": {
        "id": "view-in-github",
        "colab_type": "text"
      },
      "source": [
        "<a href=\"https://colab.research.google.com/github/ndn96/my-home-work/blob/main/List_Exercise_24092021.ipynb\" target=\"_parent\"><img src=\"https://colab.research.google.com/assets/colab-badge.svg\" alt=\"Open In Colab\"/></a>"
      ]
    },
    {
      "cell_type": "code",
      "metadata": {
        "colab": {
          "base_uri": "https://localhost:8080/"
        },
        "id": "F458I69ueZXQ",
        "outputId": "9b3c173e-897f-4dae-cb48-c428e42aa329"
      },
      "source": [
        "# 1. Tạo 1 biến x kiểu List rỗng:\n",
        "x = []\n",
        "# 2. Thêm giá trị 18 vào x:\n",
        "x.append(18)\n",
        "# 3. Thêm giá trị \"Huế\" vào x:\n",
        "x.append(\"Huế\")\n",
        "# 4. Tạo 1 list y = [12, 45, -1, -0.56, \"abc\"]:\n",
        "y = [12, 45, -1, -0.56, \"abc\"]\n",
        "# 5. Thêm y vào x:\n",
        "# Đề bài yêu cầu thêm y vào x Khác với thêm từng phần tử của y vào x.Có 2 TH:\n",
        "# 1. Nếu thêm y vào x mà dùng append() thì đề bài câu 8 sẽ trở nên không khả thi.\n",
        "# 2. Vậy nên ta dùng phép nối y vào x.Lúc này các giá trị trong y sẽ được destructoring (phân rã):\n",
        "x+=y\n",
        "# 6. Xuất giá trị của x ra màn hình:\n",
        "print(f\"Giá trị của x : {x}\")\n",
        "# 7. In ra màn hình giá trị của phần tử cuối cùng và phần tử đầu tiên của x:\n",
        "# 7.1 In ra phần tử cuối cùng của x:\n",
        "print(f\"Phần tử cuối cùng của x: {x[len(x)-1]}\")\n",
        "# 7.2 In ra phần tử đầu tiên của x:\n",
        "print(f\"Phần tử đầu tiên của x: {x[0]}\")\n",
        "# 8. In ra màn hình giá trị của phần tử đầu tiên đến phần tử thứ 5 của x:\n",
        "print(f\"Giá trị của phần tử đầu tiền đến phần tử thứ 5 của x là: {x[0:5]}\")\n",
        "# 9. In ra màn hình giá trị của phần tử thứ 3 đến cuối cùng của x:\n",
        "print(f\"Giá trị của phần tử thứ 3 đến cuối của x là: {x[2:]}\")\n"
      ],
      "execution_count": 14,
      "outputs": [
        {
          "output_type": "stream",
          "name": "stdout",
          "text": [
            "Giá trị của x : [18, 'Huế', 12, 45, -1, -0.56, 'abc']\n",
            "Phần tử cuối cùng của x: abc\n",
            "Phần tử đầu tiên của x: 18\n",
            "Giá trị của phần tử đầu tiền đến phần tử thứ 5 của x là: [18, 'Huế', 12, 45, -1]\n",
            "Giá trị của phần tử thứ 3 đến cuối của x là: [12, 45, -1, -0.56, 'abc']\n"
          ]
        }
      ]
    }
  ]
}