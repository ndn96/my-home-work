{
  "nbformat": 4,
  "nbformat_minor": 0,
  "metadata": {
    "colab": {
      "name": "Bai-tap-ve-ham-26102021.ipynb",
      "provenance": [],
      "collapsed_sections": [],
      "authorship_tag": "ABX9TyOJshm4a6k1ZDy+yQIDyCNT",
      "include_colab_link": true
    },
    "kernelspec": {
      "name": "python3",
      "display_name": "Python 3"
    },
    "language_info": {
      "name": "python"
    }
  },
  "cells": [
    {
      "cell_type": "markdown",
      "metadata": {
        "id": "view-in-github",
        "colab_type": "text"
      },
      "source": [
        "<a href=\"https://colab.research.google.com/github/ndn96/my-home-work/blob/main/Bai_tap_ve_ham_26102021.ipynb\" target=\"_parent\"><img src=\"https://colab.research.google.com/assets/colab-badge.svg\" alt=\"Open In Colab\"/></a>"
      ]
    },
    {
      "cell_type": "markdown",
      "metadata": {
        "id": "ClRVavXmPrOr"
      },
      "source": [
        ""
      ]
    },
    {
      "cell_type": "markdown",
      "metadata": {
        "id": "MtQuOmGSPwPz"
      },
      "source": [
        "Bài 1: Hãy xây dựng một hàm thực hiện các yêu cầu sau:\n",
        "- Xuất ra màn hình câu thông báo: “Lập trình Java 2021”\n",
        "- Hàm không có giá trị trả về"
      ]
    },
    {
      "cell_type": "code",
      "metadata": {
        "colab": {
          "base_uri": "https://localhost:8080/"
        },
        "id": "IfjpoZq2P_57",
        "outputId": "c665e832-4cef-4a56-acca-03ab23ce9269"
      },
      "source": [
        "def bai1(content):\n",
        "  print(content)\n",
        "bai1(\"Lập trình Java 2021\")"
      ],
      "execution_count": 1,
      "outputs": [
        {
          "output_type": "stream",
          "name": "stdout",
          "text": [
            "Lập trình Java 2021\n"
          ]
        }
      ]
    },
    {
      "cell_type": "markdown",
      "metadata": {
        "id": "Fc4V8vAjPsmz"
      },
      "source": [
        "Bài 2: Hãy xây dựng một hàm thực hiện các yêu cầu sau:\n",
        "- Nhận một tham số đầu vào là một chuỗi ký tự (kiểu String)\n",
        "- Xuất ra màn hình nội dung chuỗi được truyền vào từ tham số\n",
        "- Hàm không có giá trị trả về"
      ]
    },
    {
      "cell_type": "code",
      "metadata": {
        "colab": {
          "base_uri": "https://localhost:8080/"
        },
        "id": "wwvoPqOYUnpl",
        "outputId": "954c0a1b-79ee-4e55-9a20-a7784e00646e"
      },
      "source": [
        "def bai2(inputParam):\n",
        "  print(inputParam)\n",
        "bai2(\"Tôi yêu HUET\")"
      ],
      "execution_count": 4,
      "outputs": [
        {
          "output_type": "stream",
          "name": "stdout",
          "text": [
            "Tôi yêu HUET\n"
          ]
        }
      ]
    },
    {
      "cell_type": "markdown",
      "metadata": {
        "id": "8rL92PwfPyar"
      },
      "source": [
        "Bài 3: Hãy viết chương trình thực hiện các yêu cầu sau:\n",
        "- Nhập một số nguyên dương n từ bàn phím (kiểm tra nếu không đạt yêu cầu thì bắt nhập\n",
        "lại)\n",
        "- Nhập một thông điệp từ bàn phím\n",
        "- Gọi thực hiện hàm ở Bài 2 n lần với thông điệp được truyền làm tham số đầu vào của hàm."
      ]
    },
    {
      "cell_type": "code",
      "metadata": {
        "colab": {
          "base_uri": "https://localhost:8080/"
        },
        "id": "RZdUq96AVCL7",
        "outputId": "5f408d0a-c7d4-41d4-b9ce-ec54a5f33e07"
      },
      "source": [
        "def bai2(inputParam):\n",
        "  print(inputParam)\n",
        "def bai3():\n",
        "  try:\n",
        "    n = int(input('Mời bạn nhập vào 1 số: '))\n",
        "  except:\n",
        "    print(\"Vui lòng nhập vào 1 số nguyên!\")\n",
        "    return False\n",
        "  message = input('Mời bạn nhập vào 1 thông điệp: ')\n",
        "  if n > 0 and n%1 == 0:\n",
        "    for i in range(1, n + 1):\n",
        "      bai2(message)\n",
        "  else:\n",
        "    print('Chưa đạt')\n",
        "    return bai3()\n",
        "bai3()"
      ],
      "execution_count": 2,
      "outputs": [
        {
          "output_type": "stream",
          "name": "stdout",
          "text": [
            "Mời bạn nhập vào 1 số: 3\n",
            "Mời bạn nhập vào 1 thông điệp: I Love HUET\n",
            "I Love HUET\n",
            "I Love HUET\n",
            "I Love HUET\n"
          ]
        }
      ]
    },
    {
      "cell_type": "markdown",
      "metadata": {
        "id": "HwCUtB8MP1Mq"
      },
      "source": [
        "Bài 4: Hãy viết chương trình thực hiện các yêu cầu sau:\n",
        "- Xây dựng hàm giải phương trình bậc 1 (ax + b = 0), với hệ số a & b được truyền vào qua\n",
        "thông số của hàm.\n",
        "- Chương trình chính nhận các thông số a, b từ bàn phím\n",
        "- Chương trình chính gọi hàm giải phương trình bậc 1 nêu trên"
      ]
    },
    {
      "cell_type": "code",
      "metadata": {
        "colab": {
          "base_uri": "https://localhost:8080/"
        },
        "id": "0ZhF3WyBUhyc",
        "outputId": "31a1946d-5b8b-498b-ab63-a46c031dca7d"
      },
      "source": [
        "def __main__():\n",
        "  try:\n",
        "      a = float(input(\"Mời bạn nhập vào số a: \"))\n",
        "      b = float(input(\"Mời bạn nhập vào số b: \"))\n",
        "      print(\"Nghiệm của phương trình là: \",giaiPhuongTrinhBac1(a, b))\n",
        "  except:\n",
        "    return \"Vui lòng nhập vào 1 số!\"\n",
        "def giaiPhuongTrinhBac1(a, b):\n",
        "  if a == 0 and b == 0:\n",
        "    return \"Phương trình vô số nghiệm\"\n",
        "  if a == 0 and b != 0:\n",
        "    return \"Phương trình vô nghiệm\"\n",
        "  if a != 0:\n",
        "    return -(b/a)\n",
        "__main__()"
      ],
      "execution_count": 13,
      "outputs": [
        {
          "output_type": "stream",
          "name": "stdout",
          "text": [
            "Mời bạn nhập vào số a: 1\n",
            "Mời bạn nhập vào số b: 2\n",
            "Nghiệm của phương trình là:  -2.0\n"
          ]
        }
      ]
    },
    {
      "cell_type": "markdown",
      "metadata": {
        "id": "wgx4SNVmP4l2"
      },
      "source": [
        "Bài 5: Hãy viết chương trình thực hiện các yêu cầu sau:\n",
        "- Xây dựng hàm giải phương trình bậc (ax2 + bx + c = 0), với hệ số a & b & c được truyền\n",
        "vào qua thông số của hàm.\n",
        "- Chương trình chính nhận các thông số a, b & c từ bàn phím\n",
        "- Chương trình chính gọi hàm giải phương trình bậc 2 nêu trên"
      ]
    },
    {
      "cell_type": "code",
      "metadata": {
        "colab": {
          "base_uri": "https://localhost:8080/"
        },
        "id": "nBlEScylwAbo",
        "outputId": "7002cfdd-b5c3-465b-9cf0-ac98494565f1"
      },
      "source": [
        "import math\n",
        "def giaiPhuongTrinhBac2(a , b , c):\n",
        "  # ax2 + bx + c = 0:\n",
        "  # a = 0:\n",
        "  if a == 0:\n",
        "    if b == 0 and c == 0:\n",
        "      return \"Phuong trinh co vo so nghiem\"\n",
        "    if b == 0 and c != 0:\n",
        "      return \"Phuong trinh vo nghiem\"\n",
        "    if b != 0:\n",
        "      return -(c/b)\n",
        "  else:\n",
        "    delta = b*b - 4*a*c\n",
        "    if delta >= 0:\n",
        "      x1 = (-b + math.sqrt(delta))/2*a\n",
        "      x2 = (-b - math.sqrt(delta))/2*a\n",
        "      return [x1, x2]\n",
        "    else:\n",
        "      return \"Phuong trinh vo nghiem\"\n",
        "    return [x1 , x2]\n",
        "# print(giaiPhuongTrinhBac2(1, -2, 1))\n",
        "def __main__():\n",
        "  a = float(input(\"Nhập vào số a: \"))\n",
        "  b = float(input(\"Nhập vào số b: \"))\n",
        "  c = float(input(\"Nhập vào số c: \"))\n",
        "  print(giaiPhuongTrinhBac2(a, b, c))\n",
        "__main__()"
      ],
      "execution_count": 25,
      "outputs": [
        {
          "output_type": "stream",
          "name": "stdout",
          "text": [
            "Nhập vào số a: 1\n",
            "Nhập vào số b: -2\n",
            "Nhập vào số c: 1\n",
            "[1.0, 1.0]\n"
          ]
        }
      ]
    },
    {
      "cell_type": "markdown",
      "metadata": {
        "id": "-JCRFFWfP7ME"
      },
      "source": [
        "Bài 6: Hãy viết chương trình thực hiện các yêu cầu sau:\n",
        "\n",
        "- Cho người dùng lựa chọn giải phương trình bậc 1 hay bậc 2 bằng cách nhập số (1 hay 2)\n",
        "từ bàn phím\n",
        "- Nếu người dùng chọn giải phương trình bậc 1, thì thực hiện các bước như Bài 4\n",
        "- Nếu người dùng chọn giải phương trình bậc 2, thì thực hiện các bước như Bài 5"
      ]
    },
    {
      "cell_type": "code",
      "metadata": {
        "colab": {
          "base_uri": "https://localhost:8080/"
        },
        "id": "00vNRyrOP-MU",
        "outputId": "8819407f-6c93-4e8c-99ce-fb7e0821450f"
      },
      "source": [
        "# Giải PT bậc 1\n",
        "def giaiPhuongTrinhBac1(a, b):\n",
        "  if a == 0 and b == 0:\n",
        "    return \"Phương trình vô số nghiệm\"\n",
        "  if a == 0 and b != 0:\n",
        "    return \"Phương trình vô nghiệm\"\n",
        "  if a != 0:\n",
        "    return -(b/a)\n",
        "# Giải PT bậc 2\n",
        "def giaiPhuongTrinhBac2(a , b , c):\n",
        "  # ax2 + bx + c = 0:\n",
        "  # a = 0:\n",
        "  if a == 0:\n",
        "    if b == 0 and c == 0:\n",
        "      return \"Phuong trinh co vo so nghiem\"\n",
        "    if b == 0 and c != 0:\n",
        "      return \"Phuong trinh vo nghiem\"\n",
        "    if b != 0:\n",
        "      return -(c/b)\n",
        "  else:\n",
        "    delta = b*b - 4*a*c\n",
        "    if delta >= 0:\n",
        "      x1 = (-b + math.sqrt(delta))/2*a\n",
        "      x2 = (-b - math.sqrt(delta))/2*a\n",
        "      return [x1, x2]\n",
        "    else:\n",
        "      return \"Phuong trinh vo nghiem\"\n",
        "    return [x1 , x2]\n",
        "def __main__():\n",
        "  try:\n",
        "    print(\"********************\")\n",
        "    print(\"[1]: Giải PT bậc 1\")\n",
        "    print(\"[2]: Giải PT bậc 2\")\n",
        "    print(\"********************\")\n",
        "    selection = int(input(\"Mời bạn nhập vào số bậc của PT muốn giải: \"))\n",
        "    print(\"********************\")\n",
        "    if( selection == 1):\n",
        "        a = float(input(\"Nhập vào số a: \"))\n",
        "        b = float(input(\"Nhập vào số b: \"))\n",
        "        print(\"********************\")\n",
        "        print(giaiPhuongTrinhBac1(a , b))\n",
        "    if( selection == 2):\n",
        "        a = float(input(\"Nhập vào số a: \"))\n",
        "        b = float(input(\"Nhập vào số b: \"))\n",
        "        c = float(input(\"Nhập vào số c: \"))\n",
        "        print(\"********************\")\n",
        "        print(giaiPhuongTrinhBac2(a , b , c))\n",
        "  except:\n",
        "    print(\"Đã có lỗi xảy ra!\")\n",
        "__main__()"
      ],
      "execution_count": 31,
      "outputs": [
        {
          "output_type": "stream",
          "name": "stdout",
          "text": [
            "********************\n",
            "[1]: Giải PT bậc 1\n",
            "[2]: Giải PT bậc 2\n",
            "********************\n",
            "Mời bạn nhập vào số bậc của PT muốn giải: 2\n",
            "********************\n",
            "Nhập vào số a: 2\n",
            "Nhập vào số b: 3\n",
            "Nhập vào số c: 4\n",
            "********************\n",
            "Phuong trinh vo nghiem\n"
          ]
        }
      ]
    },
    {
      "cell_type": "markdown",
      "metadata": {
        "id": "9Qy7NoNfP8Pc"
      },
      "source": [
        "Bài 7: Viết chương trình thực hiện các yêu cầu sau:\n",
        "- Thực hiện yêu cầu như bài 6\n",
        "- Sau khi thực hiện xong cho người dùng lựa chọn tiếp tục thực hiện lại hay kết thúc chương\n",
        "trình"
      ]
    },
    {
      "cell_type": "code",
      "metadata": {
        "colab": {
          "base_uri": "https://localhost:8080/"
        },
        "id": "CR2GetcLoNDX",
        "outputId": "114e6508-5a87-411d-b340-e70969365ab9"
      },
      "source": [
        "# Giải PT bậc 1\n",
        "def giaiPhuongTrinhBac1(a, b):\n",
        "  if a == 0 and b == 0:\n",
        "    return \"Phương trình vô số nghiệm\"\n",
        "  if a == 0 and b != 0:\n",
        "    return \"Phương trình vô nghiệm\"\n",
        "  if a != 0:\n",
        "    return -(b/a)\n",
        "# Giải PT bậc 2\n",
        "def giaiPhuongTrinhBac2(a , b , c):\n",
        "  # ax2 + bx + c = 0:\n",
        "  # a = 0:\n",
        "  if a == 0:\n",
        "    if b == 0 and c == 0:\n",
        "      return \"Phuong trinh co vo so nghiem\"\n",
        "    if b == 0 and c != 0:\n",
        "      return \"Phuong trinh vo nghiem\"\n",
        "    if b != 0:\n",
        "      return -(c/b)\n",
        "  else:\n",
        "    delta = b*b - 4*a*c\n",
        "    if delta >= 0:\n",
        "      x1 = (-b + math.sqrt(delta))/2*a\n",
        "      x2 = (-b - math.sqrt(delta))/2*a\n",
        "      return [x1, x2]\n",
        "    else:\n",
        "      return \"Phuong trinh vo nghiem\"\n",
        "    return [x1 , x2]\n",
        "def __main__():\n",
        "  try:\n",
        "    conditionLoop = True\n",
        "    while(conditionLoop):\n",
        "      print(\"************************************************************\")\n",
        "      print(\"[1]: Giải PT bậc 1\")\n",
        "      print(\"[2]: Giải PT bậc 2\")\n",
        "      print(\"************************************************************\")\n",
        "      selection = int(input(\"Mời bạn nhập vào số bậc của PT muốn giải: \"))\n",
        "      print(\"************************************************************\")\n",
        "      # Giải phương trình bậc 1:\n",
        "      if( selection == 1):\n",
        "          a = float(input(\"Nhập vào số a: \"))\n",
        "          b = float(input(\"Nhập vào số b: \"))\n",
        "          print(\"************************************************************\")\n",
        "          print(giaiPhuongTrinhBac1(a , b))\n",
        "      # Giải phương trình bậc 2:\n",
        "      if( selection == 2):\n",
        "          a = float(input(\"Nhập vào số a: \"))\n",
        "          b = float(input(\"Nhập vào số b: \"))\n",
        "          c = float(input(\"Nhập vào số c: \"))\n",
        "          print(\"************************************************************\")\n",
        "          print(giaiPhuongTrinhBac2(a , b , c))\n",
        "      # Thông báo user về quyết định tiếp tục nhập hay chăng,Y là có,Khác Y là Không.\n",
        "      _continue = input(\"Bạn có muốn tiếp tục nhập: \")\n",
        "      if _continue != \"Y\":\n",
        "        print(\"Cảm ơn bạn đã sử dụng chương trình!\")\n",
        "        conditionLoop = False\n",
        "  except:\n",
        "    print(\"Đã có lỗi xảy ra!\")\n",
        "__main__()\n"
      ],
      "execution_count": 33,
      "outputs": [
        {
          "name": "stdout",
          "output_type": "stream",
          "text": [
            "********************\n",
            "[1]: Giải PT bậc 1\n",
            "[2]: Giải PT bậc 2\n",
            "********************\n",
            "Mời bạn nhập vào số bậc của PT muốn giải: 2\n",
            "********************\n",
            "Nhập vào số a: 1\n",
            "Nhập vào số b: -2\n",
            "Nhập vào số c: 1\n",
            "********************\n",
            "[1.0, 1.0]\n",
            "Bạn có muốn tiếp tục nhập: Y\n",
            "********************\n",
            "[1]: Giải PT bậc 1\n",
            "[2]: Giải PT bậc 2\n",
            "********************\n",
            "Mời bạn nhập vào số bậc của PT muốn giải: 1\n",
            "********************\n",
            "Nhập vào số a: -2\n",
            "Nhập vào số b: 3\n",
            "********************\n",
            "1.5\n",
            "Bạn có muốn tiếp tục nhập: N\n"
          ]
        }
      ]
    },
    {
      "cell_type": "code",
      "metadata": {
        "colab": {
          "base_uri": "https://localhost:8080/"
        },
        "id": "4hyaUt7ebJRy",
        "outputId": "80586cc8-f072-4517-bc24-f4321e5e7ec9"
      },
      "source": [
        "# Bài tập trên lớp 28102021:\n",
        "# Bài 1: Viết CT: Nhập dữ liệu cho 1 danh sách từ bàn phím.\n",
        "conditionLoop = True\n",
        "_list = []\n",
        "while(conditionLoop):\n",
        "  tam = input(\"Nhập vào giá trị: \")\n",
        "  _list.append(tam)\n",
        "  _continue = input(\"Bạn có muốn tiếp tục nhập: \")\n",
        "\n",
        "  if _continue != \"Y\":\n",
        "    conditionLoop = False\n",
        "print(f\"List is {_list}\")"
      ],
      "execution_count": 16,
      "outputs": [
        {
          "output_type": "stream",
          "name": "stdout",
          "text": [
            "Nhập vào giá trị: 1\n",
            "Bạn có muốn tiếp tục nhập: Y\n",
            "Nhập vào giá trị: 2\n",
            "Bạn có muốn tiếp tục nhập: N\n",
            "List is ['1', '2']\n"
          ]
        }
      ]
    }
  ]
}